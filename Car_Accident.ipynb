{
  "nbformat": 4,
  "nbformat_minor": 0,
  "metadata": {
    "colab": {
      "provenance": [],
      "gpuType": "T4",
      "authorship_tag": "ABX9TyP3Hz4rmxkgda8ujkJG3aOO",
      "include_colab_link": true
    },
    "kernelspec": {
      "name": "python3",
      "display_name": "Python 3"
    },
    "language_info": {
      "name": "python"
    },
    "accelerator": "GPU"
  },
  "cells": [
    {
      "cell_type": "markdown",
      "metadata": {
        "id": "view-in-github",
        "colab_type": "text"
      },
      "source": [
        "<a href=\"https://colab.research.google.com/github/jainjayesh24/YOLO-BikeAccident/blob/main/Car_Accident.ipynb\" target=\"_parent\"><img src=\"https://colab.research.google.com/assets/colab-badge.svg\" alt=\"Open In Colab\"/></a>"
      ]
    },
    {
      "cell_type": "code",
      "execution_count": 2,
      "metadata": {
        "id": "5Xy7kiNrCV_s",
        "outputId": "63495132-e812-4a34-d1cf-d8735cf887c6",
        "colab": {
          "base_uri": "https://localhost:8080/"
        }
      },
      "outputs": [
        {
          "output_type": "stream",
          "name": "stdout",
          "text": [
            "Collecting roboflow\n",
            "  Downloading roboflow-1.1.49-py3-none-any.whl.metadata (9.7 kB)\n",
            "Requirement already satisfied: certifi in /usr/local/lib/python3.10/dist-packages (from roboflow) (2024.8.30)\n",
            "Collecting idna==3.7 (from roboflow)\n",
            "  Downloading idna-3.7-py3-none-any.whl.metadata (9.9 kB)\n",
            "Requirement already satisfied: cycler in /usr/local/lib/python3.10/dist-packages (from roboflow) (0.12.1)\n",
            "Requirement already satisfied: kiwisolver>=1.3.1 in /usr/local/lib/python3.10/dist-packages (from roboflow) (1.4.7)\n",
            "Requirement already satisfied: matplotlib in /usr/local/lib/python3.10/dist-packages (from roboflow) (3.7.1)\n",
            "Requirement already satisfied: numpy>=1.18.5 in /usr/local/lib/python3.10/dist-packages (from roboflow) (1.26.4)\n",
            "Requirement already satisfied: opencv-python-headless==4.10.0.84 in /usr/local/lib/python3.10/dist-packages (from roboflow) (4.10.0.84)\n",
            "Requirement already satisfied: Pillow>=7.1.2 in /usr/local/lib/python3.10/dist-packages (from roboflow) (10.4.0)\n",
            "Requirement already satisfied: python-dateutil in /usr/local/lib/python3.10/dist-packages (from roboflow) (2.8.2)\n",
            "Collecting python-dotenv (from roboflow)\n",
            "  Downloading python_dotenv-1.0.1-py3-none-any.whl.metadata (23 kB)\n",
            "Requirement already satisfied: requests in /usr/local/lib/python3.10/dist-packages (from roboflow) (2.32.3)\n",
            "Requirement already satisfied: six in /usr/local/lib/python3.10/dist-packages (from roboflow) (1.16.0)\n",
            "Requirement already satisfied: urllib3>=1.26.6 in /usr/local/lib/python3.10/dist-packages (from roboflow) (2.2.3)\n",
            "Requirement already satisfied: tqdm>=4.41.0 in /usr/local/lib/python3.10/dist-packages (from roboflow) (4.66.5)\n",
            "Requirement already satisfied: PyYAML>=5.3.1 in /usr/local/lib/python3.10/dist-packages (from roboflow) (6.0.2)\n",
            "Collecting requests-toolbelt (from roboflow)\n",
            "  Downloading requests_toolbelt-1.0.0-py2.py3-none-any.whl.metadata (14 kB)\n",
            "Collecting filetype (from roboflow)\n",
            "  Downloading filetype-1.2.0-py2.py3-none-any.whl.metadata (6.5 kB)\n",
            "Requirement already satisfied: contourpy>=1.0.1 in /usr/local/lib/python3.10/dist-packages (from matplotlib->roboflow) (1.3.0)\n",
            "Requirement already satisfied: fonttools>=4.22.0 in /usr/local/lib/python3.10/dist-packages (from matplotlib->roboflow) (4.53.1)\n",
            "Requirement already satisfied: packaging>=20.0 in /usr/local/lib/python3.10/dist-packages (from matplotlib->roboflow) (24.1)\n",
            "Requirement already satisfied: pyparsing>=2.3.1 in /usr/local/lib/python3.10/dist-packages (from matplotlib->roboflow) (3.1.4)\n",
            "Requirement already satisfied: charset-normalizer<4,>=2 in /usr/local/lib/python3.10/dist-packages (from requests->roboflow) (3.3.2)\n",
            "Downloading roboflow-1.1.49-py3-none-any.whl (80 kB)\n",
            "\u001b[2K   \u001b[90m━━━━━━━━━━━━━━━━━━━━━━━━━━━━━━━━━━━━━━━━\u001b[0m \u001b[32m80.9/80.9 kB\u001b[0m \u001b[31m8.6 MB/s\u001b[0m eta \u001b[36m0:00:00\u001b[0m\n",
            "\u001b[?25hDownloading idna-3.7-py3-none-any.whl (66 kB)\n",
            "\u001b[2K   \u001b[90m━━━━━━━━━━━━━━━━━━━━━━━━━━━━━━━━━━━━━━━━\u001b[0m \u001b[32m66.8/66.8 kB\u001b[0m \u001b[31m6.0 MB/s\u001b[0m eta \u001b[36m0:00:00\u001b[0m\n",
            "\u001b[?25hDownloading filetype-1.2.0-py2.py3-none-any.whl (19 kB)\n",
            "Downloading python_dotenv-1.0.1-py3-none-any.whl (19 kB)\n",
            "Downloading requests_toolbelt-1.0.0-py2.py3-none-any.whl (54 kB)\n",
            "\u001b[2K   \u001b[90m━━━━━━━━━━━━━━━━━━━━━━━━━━━━━━━━━━━━━━━━\u001b[0m \u001b[32m54.5/54.5 kB\u001b[0m \u001b[31m5.0 MB/s\u001b[0m eta \u001b[36m0:00:00\u001b[0m\n",
            "\u001b[?25hInstalling collected packages: filetype, python-dotenv, idna, requests-toolbelt, roboflow\n",
            "  Attempting uninstall: idna\n",
            "    Found existing installation: idna 3.10\n",
            "    Uninstalling idna-3.10:\n",
            "      Successfully uninstalled idna-3.10\n",
            "Successfully installed filetype-1.2.0 idna-3.7 python-dotenv-1.0.1 requests-toolbelt-1.0.0 roboflow-1.1.49\n",
            "loading Roboflow workspace...\n",
            "loading Roboflow project...\n"
          ]
        },
        {
          "output_type": "stream",
          "name": "stderr",
          "text": [
            "Downloading Dataset Version Zip in Vehicle-Crash-Dataset-1 to yolov8:: 100%|██████████| 9851/9851 [00:01<00:00, 5339.99it/s] "
          ]
        },
        {
          "output_type": "stream",
          "name": "stdout",
          "text": [
            "\n"
          ]
        },
        {
          "output_type": "stream",
          "name": "stderr",
          "text": [
            "\n",
            "Extracting Dataset Version Zip to Vehicle-Crash-Dataset-1 in yolov8:: 100%|██████████| 948/948 [00:00<00:00, 8786.10it/s]\n"
          ]
        }
      ],
      "source": [
        "!pip install roboflow\n",
        "\n",
        "from roboflow import Roboflow\n",
        "rf = Roboflow(api_key=\"qcKsSj8de4h6T8t4Za78\")\n",
        "project = rf.workspace(\"object-detection-3iugc\").project(\"vehicle-crash-dataset\")\n",
        "version = project.version(1)\n",
        "dataset = version.download(\"yolov8\")\n",
        ""
      ]
    },
    {
      "cell_type": "code",
      "source": [
        "!pip install ultralytics\n"
      ],
      "metadata": {
        "id": "cGSRveYqCdft",
        "colab": {
          "base_uri": "https://localhost:8080/"
        },
        "outputId": "f06e35cb-6e25-4fa7-bab0-fd9d84e24134"
      },
      "execution_count": 3,
      "outputs": [
        {
          "output_type": "stream",
          "name": "stdout",
          "text": [
            "Collecting ultralytics\n",
            "  Downloading ultralytics-8.3.31-py3-none-any.whl.metadata (35 kB)\n",
            "Requirement already satisfied: numpy>=1.23.0 in /usr/local/lib/python3.10/dist-packages (from ultralytics) (1.26.4)\n",
            "Requirement already satisfied: matplotlib>=3.3.0 in /usr/local/lib/python3.10/dist-packages (from ultralytics) (3.7.1)\n",
            "Requirement already satisfied: opencv-python>=4.6.0 in /usr/local/lib/python3.10/dist-packages (from ultralytics) (4.10.0.84)\n",
            "Requirement already satisfied: pillow>=7.1.2 in /usr/local/lib/python3.10/dist-packages (from ultralytics) (10.4.0)\n",
            "Requirement already satisfied: pyyaml>=5.3.1 in /usr/local/lib/python3.10/dist-packages (from ultralytics) (6.0.2)\n",
            "Requirement already satisfied: requests>=2.23.0 in /usr/local/lib/python3.10/dist-packages (from ultralytics) (2.32.3)\n",
            "Requirement already satisfied: scipy>=1.4.1 in /usr/local/lib/python3.10/dist-packages (from ultralytics) (1.13.1)\n",
            "Requirement already satisfied: torch>=1.8.0 in /usr/local/lib/python3.10/dist-packages (from ultralytics) (2.4.1+cu121)\n",
            "Requirement already satisfied: torchvision>=0.9.0 in /usr/local/lib/python3.10/dist-packages (from ultralytics) (0.19.1+cu121)\n",
            "Requirement already satisfied: tqdm>=4.64.0 in /usr/local/lib/python3.10/dist-packages (from ultralytics) (4.66.5)\n",
            "Requirement already satisfied: psutil in /usr/local/lib/python3.10/dist-packages (from ultralytics) (5.9.5)\n",
            "Requirement already satisfied: py-cpuinfo in /usr/local/lib/python3.10/dist-packages (from ultralytics) (9.0.0)\n",
            "Requirement already satisfied: pandas>=1.1.4 in /usr/local/lib/python3.10/dist-packages (from ultralytics) (2.1.4)\n",
            "Requirement already satisfied: seaborn>=0.11.0 in /usr/local/lib/python3.10/dist-packages (from ultralytics) (0.13.1)\n",
            "Collecting ultralytics-thop>=2.0.0 (from ultralytics)\n",
            "  Downloading ultralytics_thop-2.0.11-py3-none-any.whl.metadata (9.4 kB)\n",
            "Requirement already satisfied: contourpy>=1.0.1 in /usr/local/lib/python3.10/dist-packages (from matplotlib>=3.3.0->ultralytics) (1.3.0)\n",
            "Requirement already satisfied: cycler>=0.10 in /usr/local/lib/python3.10/dist-packages (from matplotlib>=3.3.0->ultralytics) (0.12.1)\n",
            "Requirement already satisfied: fonttools>=4.22.0 in /usr/local/lib/python3.10/dist-packages (from matplotlib>=3.3.0->ultralytics) (4.53.1)\n",
            "Requirement already satisfied: kiwisolver>=1.0.1 in /usr/local/lib/python3.10/dist-packages (from matplotlib>=3.3.0->ultralytics) (1.4.7)\n",
            "Requirement already satisfied: packaging>=20.0 in /usr/local/lib/python3.10/dist-packages (from matplotlib>=3.3.0->ultralytics) (24.1)\n",
            "Requirement already satisfied: pyparsing>=2.3.1 in /usr/local/lib/python3.10/dist-packages (from matplotlib>=3.3.0->ultralytics) (3.1.4)\n",
            "Requirement already satisfied: python-dateutil>=2.7 in /usr/local/lib/python3.10/dist-packages (from matplotlib>=3.3.0->ultralytics) (2.8.2)\n",
            "Requirement already satisfied: pytz>=2020.1 in /usr/local/lib/python3.10/dist-packages (from pandas>=1.1.4->ultralytics) (2024.2)\n",
            "Requirement already satisfied: tzdata>=2022.1 in /usr/local/lib/python3.10/dist-packages (from pandas>=1.1.4->ultralytics) (2024.1)\n",
            "Requirement already satisfied: charset-normalizer<4,>=2 in /usr/local/lib/python3.10/dist-packages (from requests>=2.23.0->ultralytics) (3.3.2)\n",
            "Requirement already satisfied: idna<4,>=2.5 in /usr/local/lib/python3.10/dist-packages (from requests>=2.23.0->ultralytics) (3.7)\n",
            "Requirement already satisfied: urllib3<3,>=1.21.1 in /usr/local/lib/python3.10/dist-packages (from requests>=2.23.0->ultralytics) (2.2.3)\n",
            "Requirement already satisfied: certifi>=2017.4.17 in /usr/local/lib/python3.10/dist-packages (from requests>=2.23.0->ultralytics) (2024.8.30)\n",
            "Requirement already satisfied: filelock in /usr/local/lib/python3.10/dist-packages (from torch>=1.8.0->ultralytics) (3.16.1)\n",
            "Requirement already satisfied: typing-extensions>=4.8.0 in /usr/local/lib/python3.10/dist-packages (from torch>=1.8.0->ultralytics) (4.12.2)\n",
            "Requirement already satisfied: sympy in /usr/local/lib/python3.10/dist-packages (from torch>=1.8.0->ultralytics) (1.13.3)\n",
            "Requirement already satisfied: networkx in /usr/local/lib/python3.10/dist-packages (from torch>=1.8.0->ultralytics) (3.3)\n",
            "Requirement already satisfied: jinja2 in /usr/local/lib/python3.10/dist-packages (from torch>=1.8.0->ultralytics) (3.1.4)\n",
            "Requirement already satisfied: fsspec in /usr/local/lib/python3.10/dist-packages (from torch>=1.8.0->ultralytics) (2024.6.1)\n",
            "Requirement already satisfied: six>=1.5 in /usr/local/lib/python3.10/dist-packages (from python-dateutil>=2.7->matplotlib>=3.3.0->ultralytics) (1.16.0)\n",
            "Requirement already satisfied: MarkupSafe>=2.0 in /usr/local/lib/python3.10/dist-packages (from jinja2->torch>=1.8.0->ultralytics) (2.1.5)\n",
            "Requirement already satisfied: mpmath<1.4,>=1.1.0 in /usr/local/lib/python3.10/dist-packages (from sympy->torch>=1.8.0->ultralytics) (1.3.0)\n",
            "Downloading ultralytics-8.3.31-py3-none-any.whl (886 kB)\n",
            "\u001b[2K   \u001b[90m━━━━━━━━━━━━━━━━━━━━━━━━━━━━━━━━━━━━━━━━\u001b[0m \u001b[32m886.3/886.3 kB\u001b[0m \u001b[31m45.2 MB/s\u001b[0m eta \u001b[36m0:00:00\u001b[0m\n",
            "\u001b[?25hDownloading ultralytics_thop-2.0.11-py3-none-any.whl (26 kB)\n",
            "Installing collected packages: ultralytics-thop, ultralytics\n",
            "Successfully installed ultralytics-8.3.31 ultralytics-thop-2.0.11\n"
          ]
        }
      ]
    },
    {
      "cell_type": "code",
      "source": [
        "ls /content/Vehicle-Crash-Dataset-1"
      ],
      "metadata": {
        "colab": {
          "base_uri": "https://localhost:8080/"
        },
        "id": "zIaG8Mk0DVNi",
        "outputId": "f2eaaa34-629d-4b4e-e24a-309246c7cf32"
      },
      "execution_count": 4,
      "outputs": [
        {
          "output_type": "stream",
          "name": "stdout",
          "text": [
            "data.yaml  README.dataset.txt  README.roboflow.txt  \u001b[0m\u001b[01;34mtrain\u001b[0m/\n"
          ]
        }
      ]
    },
    {
      "cell_type": "code",
      "source": [
        "import os\n",
        "import random\n",
        "import shutil\n",
        "\n",
        "# Set paths\n",
        "dataset_dir = \"/content/Vehicle-Crash-Dataset-1/train\"\n",
        "images_dir = os.path.join(dataset_dir, \"images\")\n",
        "labels_dir = os.path.join(dataset_dir, \"labels\")\n",
        "\n",
        "\n",
        "val_images_dir = os.path.join(dataset_dir, \"../val/images\")\n",
        "val_labels_dir = os.path.join(dataset_dir, \"../val/labels\")\n",
        "os.makedirs(val_images_dir, exist_ok=True)\n",
        "os.makedirs(val_labels_dir, exist_ok=True)\n",
        "\n",
        "split_ratio = 0.2\n",
        "\n",
        "image_files = [f for f in os.listdir(images_dir) if f.endswith('.jpg')]\n",
        "num_val = int(len(image_files) * split_ratio)\n",
        "val_files = random.sample(image_files, num_val)\n",
        "\n",
        "for file_name in val_files:\n",
        "    src_image = os.path.join(images_dir, file_name)\n",
        "    dest_image = os.path.join(val_images_dir, file_name)\n",
        "    shutil.move(src_image, dest_image)\n",
        "\n",
        "    label_file = file_name.replace('.jpg', '.txt')\n",
        "    src_label = os.path.join(labels_dir, label_file)\n",
        "    dest_label = os.path.join(val_labels_dir, label_file)\n",
        "    if os.path.exists(src_label):\n",
        "        shutil.move(src_label, dest_label)\n",
        "\n",
        "print(f\"Moved {num_val} images and labels to the validation set.\")\n",
        "\n"
      ],
      "metadata": {
        "colab": {
          "base_uri": "https://localhost:8080/"
        },
        "id": "kyJg1f_SDVWT",
        "outputId": "452bc7ff-7ace-4b27-9db3-3b3091fb75d8"
      },
      "execution_count": 6,
      "outputs": [
        {
          "output_type": "stream",
          "name": "stdout",
          "text": [
            "Moved 94 images and labels to the validation set.\n"
          ]
        }
      ]
    },
    {
      "cell_type": "code",
      "source": [
        "\n",
        "from ultralytics import YOLO\n",
        "\n",
        "model = YOLO(\"yolov8n.pt\")\n",
        "model.train(data=\"/content/Vehicle-Crash-Dataset-1/data.yaml\", epochs=50, imgsz=640)"
      ],
      "metadata": {
        "colab": {
          "base_uri": "https://localhost:8080/"
        },
        "id": "1INgxviREYwl",
        "outputId": "f22e72e9-7995-4812-882a-d555a15aed13"
      },
      "execution_count": 8,
      "outputs": [
        {
          "output_type": "stream",
          "name": "stdout",
          "text": [
            "Ultralytics 8.3.31 🚀 Python-3.10.12 torch-2.4.1+cu121 CUDA:0 (Tesla T4, 15102MiB)\n",
            "\u001b[34m\u001b[1mengine/trainer: \u001b[0mtask=detect, mode=train, model=yolov8n.pt, data=/content/Vehicle-Crash-Dataset-1/data.yaml, epochs=50, time=None, patience=100, batch=16, imgsz=640, save=True, save_period=-1, cache=False, device=None, workers=8, project=None, name=train2, exist_ok=False, pretrained=True, optimizer=auto, verbose=True, seed=0, deterministic=True, single_cls=False, rect=False, cos_lr=False, close_mosaic=10, resume=False, amp=True, fraction=1.0, profile=False, freeze=None, multi_scale=False, overlap_mask=True, mask_ratio=4, dropout=0.0, val=True, split=val, save_json=False, save_hybrid=False, conf=None, iou=0.7, max_det=300, half=False, dnn=False, plots=True, source=None, vid_stride=1, stream_buffer=False, visualize=False, augment=False, agnostic_nms=False, classes=None, retina_masks=False, embed=None, show=False, save_frames=False, save_txt=False, save_conf=False, save_crop=False, show_labels=True, show_conf=True, show_boxes=True, line_width=None, format=torchscript, keras=False, optimize=False, int8=False, dynamic=False, simplify=True, opset=None, workspace=4, nms=False, lr0=0.01, lrf=0.01, momentum=0.937, weight_decay=0.0005, warmup_epochs=3.0, warmup_momentum=0.8, warmup_bias_lr=0.1, box=7.5, cls=0.5, dfl=1.5, pose=12.0, kobj=1.0, label_smoothing=0.0, nbs=64, hsv_h=0.015, hsv_s=0.7, hsv_v=0.4, degrees=0.0, translate=0.1, scale=0.5, shear=0.0, perspective=0.0, flipud=0.0, fliplr=0.5, bgr=0.0, mosaic=1.0, mixup=0.0, copy_paste=0.0, copy_paste_mode=flip, auto_augment=randaugment, erasing=0.4, crop_fraction=1.0, cfg=None, tracker=botsort.yaml, save_dir=runs/detect/train2\n",
            "Downloading https://ultralytics.com/assets/Arial.ttf to '/root/.config/Ultralytics/Arial.ttf'...\n"
          ]
        },
        {
          "output_type": "stream",
          "name": "stderr",
          "text": [
            "100%|██████████| 755k/755k [00:00<00:00, 143MB/s]\n"
          ]
        },
        {
          "output_type": "stream",
          "name": "stdout",
          "text": [
            "Overriding model.yaml nc=80 with nc=1\n",
            "\n",
            "                   from  n    params  module                                       arguments                     \n",
            "  0                  -1  1       464  ultralytics.nn.modules.conv.Conv             [3, 16, 3, 2]                 \n",
            "  1                  -1  1      4672  ultralytics.nn.modules.conv.Conv             [16, 32, 3, 2]                \n",
            "  2                  -1  1      7360  ultralytics.nn.modules.block.C2f             [32, 32, 1, True]             \n",
            "  3                  -1  1     18560  ultralytics.nn.modules.conv.Conv             [32, 64, 3, 2]                \n",
            "  4                  -1  2     49664  ultralytics.nn.modules.block.C2f             [64, 64, 2, True]             \n",
            "  5                  -1  1     73984  ultralytics.nn.modules.conv.Conv             [64, 128, 3, 2]               \n",
            "  6                  -1  2    197632  ultralytics.nn.modules.block.C2f             [128, 128, 2, True]           \n",
            "  7                  -1  1    295424  ultralytics.nn.modules.conv.Conv             [128, 256, 3, 2]              \n",
            "  8                  -1  1    460288  ultralytics.nn.modules.block.C2f             [256, 256, 1, True]           \n",
            "  9                  -1  1    164608  ultralytics.nn.modules.block.SPPF            [256, 256, 5]                 \n",
            " 10                  -1  1         0  torch.nn.modules.upsampling.Upsample         [None, 2, 'nearest']          \n",
            " 11             [-1, 6]  1         0  ultralytics.nn.modules.conv.Concat           [1]                           \n",
            " 12                  -1  1    148224  ultralytics.nn.modules.block.C2f             [384, 128, 1]                 \n",
            " 13                  -1  1         0  torch.nn.modules.upsampling.Upsample         [None, 2, 'nearest']          \n",
            " 14             [-1, 4]  1         0  ultralytics.nn.modules.conv.Concat           [1]                           \n",
            " 15                  -1  1     37248  ultralytics.nn.modules.block.C2f             [192, 64, 1]                  \n",
            " 16                  -1  1     36992  ultralytics.nn.modules.conv.Conv             [64, 64, 3, 2]                \n",
            " 17            [-1, 12]  1         0  ultralytics.nn.modules.conv.Concat           [1]                           \n",
            " 18                  -1  1    123648  ultralytics.nn.modules.block.C2f             [192, 128, 1]                 \n",
            " 19                  -1  1    147712  ultralytics.nn.modules.conv.Conv             [128, 128, 3, 2]              \n",
            " 20             [-1, 9]  1         0  ultralytics.nn.modules.conv.Concat           [1]                           \n",
            " 21                  -1  1    493056  ultralytics.nn.modules.block.C2f             [384, 256, 1]                 \n",
            " 22        [15, 18, 21]  1    751507  ultralytics.nn.modules.head.Detect           [1, [64, 128, 256]]           \n",
            "Model summary: 225 layers, 3,011,043 parameters, 3,011,027 gradients, 8.2 GFLOPs\n",
            "\n",
            "Transferred 319/355 items from pretrained weights\n",
            "\u001b[34m\u001b[1mTensorBoard: \u001b[0mStart with 'tensorboard --logdir runs/detect/train2', view at http://localhost:6006/\n",
            "Freezing layer 'model.22.dfl.conv.weight'\n",
            "\u001b[34m\u001b[1mAMP: \u001b[0mrunning Automatic Mixed Precision (AMP) checks...\n",
            "Downloading https://github.com/ultralytics/assets/releases/download/v8.3.0/yolo11n.pt to 'yolo11n.pt'...\n"
          ]
        },
        {
          "output_type": "stream",
          "name": "stderr",
          "text": [
            "100%|██████████| 5.35M/5.35M [00:00<00:00, 270MB/s]\n"
          ]
        },
        {
          "output_type": "stream",
          "name": "stdout",
          "text": [
            "\u001b[34m\u001b[1mAMP: \u001b[0mchecks passed ✅\n"
          ]
        },
        {
          "output_type": "stream",
          "name": "stderr",
          "text": [
            "\u001b[34m\u001b[1mtrain: \u001b[0mScanning /content/Vehicle-Crash-Dataset-1/train/labels... 377 images, 0 backgrounds, 0 corrupt: 100%|██████████| 377/377 [00:00<00:00, 1830.81it/s]"
          ]
        },
        {
          "output_type": "stream",
          "name": "stdout",
          "text": [
            "\u001b[34m\u001b[1mtrain: \u001b[0mNew cache created: /content/Vehicle-Crash-Dataset-1/train/labels.cache\n"
          ]
        },
        {
          "output_type": "stream",
          "name": "stderr",
          "text": [
            "\n"
          ]
        },
        {
          "output_type": "stream",
          "name": "stdout",
          "text": [
            "\u001b[34m\u001b[1malbumentations: \u001b[0mBlur(p=0.01, blur_limit=(3, 7)), MedianBlur(p=0.01, blur_limit=(3, 7)), ToGray(p=0.01, num_output_channels=3, method='weighted_average'), CLAHE(p=0.01, clip_limit=(1, 4.0), tile_grid_size=(8, 8))\n"
          ]
        },
        {
          "output_type": "stream",
          "name": "stderr",
          "text": [
            "A new version of Albumentations is available: 1.4.21 (you have 1.4.15). Upgrade using: pip install -U albumentations. To disable automatic update checks, set the environment variable NO_ALBUMENTATIONS_UPDATE to 1.\n",
            "os.fork() was called. os.fork() is incompatible with multithreaded code, and JAX is multithreaded, so this will likely lead to a deadlock.\n",
            "\u001b[34m\u001b[1mval: \u001b[0mScanning /content/Vehicle-Crash-Dataset-1/val/labels... 94 images, 0 backgrounds, 0 corrupt: 100%|██████████| 94/94 [00:00<00:00, 1497.94it/s]"
          ]
        },
        {
          "output_type": "stream",
          "name": "stdout",
          "text": [
            "\u001b[34m\u001b[1mval: \u001b[0mNew cache created: /content/Vehicle-Crash-Dataset-1/val/labels.cache\n"
          ]
        },
        {
          "output_type": "stream",
          "name": "stderr",
          "text": [
            "\n"
          ]
        },
        {
          "output_type": "stream",
          "name": "stdout",
          "text": [
            "Plotting labels to runs/detect/train2/labels.jpg... \n",
            "\u001b[34m\u001b[1moptimizer:\u001b[0m 'optimizer=auto' found, ignoring 'lr0=0.01' and 'momentum=0.937' and determining best 'optimizer', 'lr0' and 'momentum' automatically... \n",
            "\u001b[34m\u001b[1moptimizer:\u001b[0m AdamW(lr=0.002, momentum=0.9) with parameter groups 57 weight(decay=0.0), 64 weight(decay=0.0005), 63 bias(decay=0.0)\n",
            "\u001b[34m\u001b[1mTensorBoard: \u001b[0mmodel graph visualization added ✅\n",
            "Image sizes 640 train, 640 val\n",
            "Using 2 dataloader workers\n",
            "Logging results to \u001b[1mruns/detect/train2\u001b[0m\n",
            "Starting training for 50 epochs...\n",
            "\n",
            "      Epoch    GPU_mem   box_loss   cls_loss   dfl_loss  Instances       Size\n"
          ]
        },
        {
          "output_type": "stream",
          "name": "stderr",
          "text": [
            "       1/50      2.27G      2.061      3.457      2.028         19        640: 100%|██████████| 24/24 [00:09<00:00,  2.45it/s]\n",
            "                 Class     Images  Instances      Box(P          R      mAP50  mAP50-95): 100%|██████████| 3/3 [00:02<00:00,  1.37it/s]"
          ]
        },
        {
          "output_type": "stream",
          "name": "stdout",
          "text": [
            "                   all         94         94    0.00312      0.936      0.184     0.0599\n"
          ]
        },
        {
          "output_type": "stream",
          "name": "stderr",
          "text": [
            "\n"
          ]
        },
        {
          "output_type": "stream",
          "name": "stdout",
          "text": [
            "\n",
            "      Epoch    GPU_mem   box_loss   cls_loss   dfl_loss  Instances       Size\n"
          ]
        },
        {
          "output_type": "stream",
          "name": "stderr",
          "text": [
            "       2/50      2.16G      1.981      3.171      2.036         16        640: 100%|██████████| 24/24 [00:08<00:00,  2.71it/s]\n",
            "                 Class     Images  Instances      Box(P          R      mAP50  mAP50-95): 100%|██████████| 3/3 [00:01<00:00,  2.15it/s]"
          ]
        },
        {
          "output_type": "stream",
          "name": "stdout",
          "text": [
            "                   all         94         94    0.00316      0.947     0.0159    0.00446\n"
          ]
        },
        {
          "output_type": "stream",
          "name": "stderr",
          "text": [
            "\n"
          ]
        },
        {
          "output_type": "stream",
          "name": "stdout",
          "text": [
            "\n",
            "      Epoch    GPU_mem   box_loss   cls_loss   dfl_loss  Instances       Size\n"
          ]
        },
        {
          "output_type": "stream",
          "name": "stderr",
          "text": [
            "       3/50      2.16G      2.024      2.954      2.081         17        640: 100%|██████████| 24/24 [00:05<00:00,  4.23it/s]\n",
            "                 Class     Images  Instances      Box(P          R      mAP50  mAP50-95): 100%|██████████| 3/3 [00:00<00:00,  3.27it/s]"
          ]
        },
        {
          "output_type": "stream",
          "name": "stdout",
          "text": [
            "                   all         94         94     0.0327     0.0638     0.0173    0.00614\n"
          ]
        },
        {
          "output_type": "stream",
          "name": "stderr",
          "text": [
            "\n"
          ]
        },
        {
          "output_type": "stream",
          "name": "stdout",
          "text": [
            "\n",
            "      Epoch    GPU_mem   box_loss   cls_loss   dfl_loss  Instances       Size\n"
          ]
        },
        {
          "output_type": "stream",
          "name": "stderr",
          "text": [
            "       4/50      2.15G      2.052      2.831      2.135         24        640: 100%|██████████| 24/24 [00:09<00:00,  2.61it/s]\n",
            "                 Class     Images  Instances      Box(P          R      mAP50  mAP50-95): 100%|██████████| 3/3 [00:01<00:00,  2.47it/s]"
          ]
        },
        {
          "output_type": "stream",
          "name": "stdout",
          "text": [
            "                   all         94         94      0.135     0.0851     0.0515     0.0141\n"
          ]
        },
        {
          "output_type": "stream",
          "name": "stderr",
          "text": [
            "\n"
          ]
        },
        {
          "output_type": "stream",
          "name": "stdout",
          "text": [
            "\n",
            "      Epoch    GPU_mem   box_loss   cls_loss   dfl_loss  Instances       Size\n"
          ]
        },
        {
          "output_type": "stream",
          "name": "stderr",
          "text": [
            "       5/50      2.15G      2.013      2.687      2.091         17        640: 100%|██████████| 24/24 [00:05<00:00,  4.11it/s]\n",
            "                 Class     Images  Instances      Box(P          R      mAP50  mAP50-95): 100%|██████████| 3/3 [00:00<00:00,  3.09it/s]"
          ]
        },
        {
          "output_type": "stream",
          "name": "stdout",
          "text": [
            "                   all         94         94    0.00449      0.234      0.003    0.00106\n"
          ]
        },
        {
          "output_type": "stream",
          "name": "stderr",
          "text": [
            "\n"
          ]
        },
        {
          "output_type": "stream",
          "name": "stdout",
          "text": [
            "\n",
            "      Epoch    GPU_mem   box_loss   cls_loss   dfl_loss  Instances       Size\n"
          ]
        },
        {
          "output_type": "stream",
          "name": "stderr",
          "text": [
            "       6/50      2.15G      2.055      2.603      2.101         17        640: 100%|██████████| 24/24 [00:08<00:00,  2.78it/s]\n",
            "                 Class     Images  Instances      Box(P          R      mAP50  mAP50-95): 100%|██████████| 3/3 [00:01<00:00,  2.80it/s]"
          ]
        },
        {
          "output_type": "stream",
          "name": "stdout",
          "text": [
            "                   all         94         94       0.12       0.16     0.0947     0.0246\n"
          ]
        },
        {
          "output_type": "stream",
          "name": "stderr",
          "text": [
            "\n"
          ]
        },
        {
          "output_type": "stream",
          "name": "stdout",
          "text": [
            "\n",
            "      Epoch    GPU_mem   box_loss   cls_loss   dfl_loss  Instances       Size\n"
          ]
        },
        {
          "output_type": "stream",
          "name": "stderr",
          "text": [
            "       7/50      2.16G      2.034       2.42      2.094         14        640: 100%|██████████| 24/24 [00:05<00:00,  4.19it/s]\n",
            "                 Class     Images  Instances      Box(P          R      mAP50  mAP50-95): 100%|██████████| 3/3 [00:00<00:00,  3.19it/s]"
          ]
        },
        {
          "output_type": "stream",
          "name": "stdout",
          "text": [
            "                   all         94         94      0.254      0.362      0.225     0.0598\n"
          ]
        },
        {
          "output_type": "stream",
          "name": "stderr",
          "text": [
            "\n"
          ]
        },
        {
          "output_type": "stream",
          "name": "stdout",
          "text": [
            "\n",
            "      Epoch    GPU_mem   box_loss   cls_loss   dfl_loss  Instances       Size\n"
          ]
        },
        {
          "output_type": "stream",
          "name": "stderr",
          "text": [
            "       8/50      2.15G       2.02      2.297      2.046         15        640: 100%|██████████| 24/24 [00:08<00:00,  2.75it/s]\n",
            "                 Class     Images  Instances      Box(P          R      mAP50  mAP50-95): 100%|██████████| 3/3 [00:00<00:00,  3.07it/s]"
          ]
        },
        {
          "output_type": "stream",
          "name": "stdout",
          "text": [
            "                   all         94         94      0.158      0.223     0.0895      0.023\n"
          ]
        },
        {
          "output_type": "stream",
          "name": "stderr",
          "text": [
            "\n"
          ]
        },
        {
          "output_type": "stream",
          "name": "stdout",
          "text": [
            "\n",
            "      Epoch    GPU_mem   box_loss   cls_loss   dfl_loss  Instances       Size\n"
          ]
        },
        {
          "output_type": "stream",
          "name": "stderr",
          "text": [
            "       9/50      2.16G      1.959       2.17      1.997         13        640: 100%|██████████| 24/24 [00:05<00:00,  4.22it/s]\n",
            "                 Class     Images  Instances      Box(P          R      mAP50  mAP50-95): 100%|██████████| 3/3 [00:00<00:00,  3.22it/s]"
          ]
        },
        {
          "output_type": "stream",
          "name": "stdout",
          "text": [
            "                   all         94         94      0.317       0.34      0.224     0.0758\n"
          ]
        },
        {
          "output_type": "stream",
          "name": "stderr",
          "text": [
            "\n"
          ]
        },
        {
          "output_type": "stream",
          "name": "stdout",
          "text": [
            "\n",
            "      Epoch    GPU_mem   box_loss   cls_loss   dfl_loss  Instances       Size\n"
          ]
        },
        {
          "output_type": "stream",
          "name": "stderr",
          "text": [
            "      10/50      2.15G      1.943      2.145      1.964         17        640: 100%|██████████| 24/24 [00:08<00:00,  2.68it/s]\n",
            "                 Class     Images  Instances      Box(P          R      mAP50  mAP50-95): 100%|██████████| 3/3 [00:01<00:00,  2.92it/s]"
          ]
        },
        {
          "output_type": "stream",
          "name": "stdout",
          "text": [
            "                   all         94         94      0.276      0.553      0.261     0.0792\n"
          ]
        },
        {
          "output_type": "stream",
          "name": "stderr",
          "text": [
            "\n"
          ]
        },
        {
          "output_type": "stream",
          "name": "stdout",
          "text": [
            "\n",
            "      Epoch    GPU_mem   box_loss   cls_loss   dfl_loss  Instances       Size\n"
          ]
        },
        {
          "output_type": "stream",
          "name": "stderr",
          "text": [
            "      11/50      2.15G        1.9      2.047      1.961         11        640: 100%|██████████| 24/24 [00:05<00:00,  4.12it/s]\n",
            "                 Class     Images  Instances      Box(P          R      mAP50  mAP50-95): 100%|██████████| 3/3 [00:00<00:00,  3.38it/s]"
          ]
        },
        {
          "output_type": "stream",
          "name": "stdout",
          "text": [
            "                   all         94         94      0.398      0.564      0.461      0.183\n"
          ]
        },
        {
          "output_type": "stream",
          "name": "stderr",
          "text": [
            "\n"
          ]
        },
        {
          "output_type": "stream",
          "name": "stdout",
          "text": [
            "\n",
            "      Epoch    GPU_mem   box_loss   cls_loss   dfl_loss  Instances       Size\n"
          ]
        },
        {
          "output_type": "stream",
          "name": "stderr",
          "text": [
            "      12/50      2.15G      1.851      1.981      1.899         13        640: 100%|██████████| 24/24 [00:08<00:00,  2.87it/s]\n",
            "                 Class     Images  Instances      Box(P          R      mAP50  mAP50-95): 100%|██████████| 3/3 [00:01<00:00,  2.84it/s]"
          ]
        },
        {
          "output_type": "stream",
          "name": "stdout",
          "text": [
            "                   all         94         94      0.608      0.574       0.55      0.212\n"
          ]
        },
        {
          "output_type": "stream",
          "name": "stderr",
          "text": [
            "\n"
          ]
        },
        {
          "output_type": "stream",
          "name": "stdout",
          "text": [
            "\n",
            "      Epoch    GPU_mem   box_loss   cls_loss   dfl_loss  Instances       Size\n"
          ]
        },
        {
          "output_type": "stream",
          "name": "stderr",
          "text": [
            "      13/50      2.15G       1.85        1.9      1.924         20        640: 100%|██████████| 24/24 [00:05<00:00,  4.18it/s]\n",
            "                 Class     Images  Instances      Box(P          R      mAP50  mAP50-95): 100%|██████████| 3/3 [00:01<00:00,  2.12it/s]"
          ]
        },
        {
          "output_type": "stream",
          "name": "stdout",
          "text": [
            "                   all         94         94      0.478      0.436      0.448      0.172\n"
          ]
        },
        {
          "output_type": "stream",
          "name": "stderr",
          "text": [
            "\n"
          ]
        },
        {
          "output_type": "stream",
          "name": "stdout",
          "text": [
            "\n",
            "      Epoch    GPU_mem   box_loss   cls_loss   dfl_loss  Instances       Size\n"
          ]
        },
        {
          "output_type": "stream",
          "name": "stderr",
          "text": [
            "      14/50      2.15G      1.834      1.801      1.902         17        640: 100%|██████████| 24/24 [00:07<00:00,  3.03it/s]\n",
            "                 Class     Images  Instances      Box(P          R      mAP50  mAP50-95): 100%|██████████| 3/3 [00:01<00:00,  2.79it/s]"
          ]
        },
        {
          "output_type": "stream",
          "name": "stdout",
          "text": [
            "                   all         94         94      0.398      0.309      0.343      0.142\n"
          ]
        },
        {
          "output_type": "stream",
          "name": "stderr",
          "text": [
            "\n"
          ]
        },
        {
          "output_type": "stream",
          "name": "stdout",
          "text": [
            "\n",
            "      Epoch    GPU_mem   box_loss   cls_loss   dfl_loss  Instances       Size\n"
          ]
        },
        {
          "output_type": "stream",
          "name": "stderr",
          "text": [
            "      15/50      2.15G      1.861      1.762      1.852         15        640: 100%|██████████| 24/24 [00:05<00:00,  4.19it/s]\n",
            "                 Class     Images  Instances      Box(P          R      mAP50  mAP50-95): 100%|██████████| 3/3 [00:01<00:00,  1.76it/s]"
          ]
        },
        {
          "output_type": "stream",
          "name": "stdout",
          "text": [
            "                   all         94         94      0.341      0.543      0.314      0.122\n"
          ]
        },
        {
          "output_type": "stream",
          "name": "stderr",
          "text": [
            "\n"
          ]
        },
        {
          "output_type": "stream",
          "name": "stdout",
          "text": [
            "\n",
            "      Epoch    GPU_mem   box_loss   cls_loss   dfl_loss  Instances       Size\n"
          ]
        },
        {
          "output_type": "stream",
          "name": "stderr",
          "text": [
            "      16/50      2.15G      1.843      1.781      1.902         17        640: 100%|██████████| 24/24 [00:07<00:00,  3.27it/s]\n",
            "                 Class     Images  Instances      Box(P          R      mAP50  mAP50-95): 100%|██████████| 3/3 [00:01<00:00,  2.57it/s]"
          ]
        },
        {
          "output_type": "stream",
          "name": "stdout",
          "text": [
            "                   all         94         94      0.511      0.553        0.6      0.233\n"
          ]
        },
        {
          "output_type": "stream",
          "name": "stderr",
          "text": [
            "\n"
          ]
        },
        {
          "output_type": "stream",
          "name": "stdout",
          "text": [
            "\n",
            "      Epoch    GPU_mem   box_loss   cls_loss   dfl_loss  Instances       Size\n"
          ]
        },
        {
          "output_type": "stream",
          "name": "stderr",
          "text": [
            "      17/50      2.15G      1.806      1.778      1.848         18        640: 100%|██████████| 24/24 [00:06<00:00,  3.95it/s]\n",
            "                 Class     Images  Instances      Box(P          R      mAP50  mAP50-95): 100%|██████████| 3/3 [00:01<00:00,  1.80it/s]"
          ]
        },
        {
          "output_type": "stream",
          "name": "stdout",
          "text": [
            "                   all         94         94      0.494      0.665      0.597      0.247\n"
          ]
        },
        {
          "output_type": "stream",
          "name": "stderr",
          "text": [
            "\n"
          ]
        },
        {
          "output_type": "stream",
          "name": "stdout",
          "text": [
            "\n",
            "      Epoch    GPU_mem   box_loss   cls_loss   dfl_loss  Instances       Size\n"
          ]
        },
        {
          "output_type": "stream",
          "name": "stderr",
          "text": [
            "      18/50      2.15G      1.814      1.645      1.833         21        640: 100%|██████████| 24/24 [00:07<00:00,  3.34it/s]\n",
            "                 Class     Images  Instances      Box(P          R      mAP50  mAP50-95): 100%|██████████| 3/3 [00:00<00:00,  3.23it/s]"
          ]
        },
        {
          "output_type": "stream",
          "name": "stdout",
          "text": [
            "                   all         94         94      0.587      0.543      0.593      0.252\n"
          ]
        },
        {
          "output_type": "stream",
          "name": "stderr",
          "text": [
            "\n"
          ]
        },
        {
          "output_type": "stream",
          "name": "stdout",
          "text": [
            "\n",
            "      Epoch    GPU_mem   box_loss   cls_loss   dfl_loss  Instances       Size\n"
          ]
        },
        {
          "output_type": "stream",
          "name": "stderr",
          "text": [
            "      19/50      2.15G      1.786      1.696      1.809         17        640: 100%|██████████| 24/24 [00:06<00:00,  3.61it/s]\n",
            "                 Class     Images  Instances      Box(P          R      mAP50  mAP50-95): 100%|██████████| 3/3 [00:01<00:00,  1.70it/s]"
          ]
        },
        {
          "output_type": "stream",
          "name": "stdout",
          "text": [
            "                   all         94         94      0.664      0.617      0.632      0.244\n"
          ]
        },
        {
          "output_type": "stream",
          "name": "stderr",
          "text": [
            "\n"
          ]
        },
        {
          "output_type": "stream",
          "name": "stdout",
          "text": [
            "\n",
            "      Epoch    GPU_mem   box_loss   cls_loss   dfl_loss  Instances       Size\n"
          ]
        },
        {
          "output_type": "stream",
          "name": "stderr",
          "text": [
            "      20/50      2.15G      1.799      1.691      1.812         14        640: 100%|██████████| 24/24 [00:06<00:00,  3.65it/s]\n",
            "                 Class     Images  Instances      Box(P          R      mAP50  mAP50-95): 100%|██████████| 3/3 [00:00<00:00,  3.00it/s]"
          ]
        },
        {
          "output_type": "stream",
          "name": "stdout",
          "text": [
            "                   all         94         94      0.752      0.553      0.682      0.269\n"
          ]
        },
        {
          "output_type": "stream",
          "name": "stderr",
          "text": [
            "\n"
          ]
        },
        {
          "output_type": "stream",
          "name": "stdout",
          "text": [
            "\n",
            "      Epoch    GPU_mem   box_loss   cls_loss   dfl_loss  Instances       Size\n"
          ]
        },
        {
          "output_type": "stream",
          "name": "stderr",
          "text": [
            "      21/50      2.15G      1.721      1.591      1.811         14        640: 100%|██████████| 24/24 [00:06<00:00,  3.52it/s]\n",
            "                 Class     Images  Instances      Box(P          R      mAP50  mAP50-95): 100%|██████████| 3/3 [00:01<00:00,  1.68it/s]"
          ]
        },
        {
          "output_type": "stream",
          "name": "stdout",
          "text": [
            "                   all         94         94      0.766      0.638      0.753      0.312\n"
          ]
        },
        {
          "output_type": "stream",
          "name": "stderr",
          "text": [
            "\n"
          ]
        },
        {
          "output_type": "stream",
          "name": "stdout",
          "text": [
            "\n",
            "      Epoch    GPU_mem   box_loss   cls_loss   dfl_loss  Instances       Size\n"
          ]
        },
        {
          "output_type": "stream",
          "name": "stderr",
          "text": [
            "      22/50      2.15G      1.741      1.543      1.798         19        640: 100%|██████████| 24/24 [00:06<00:00,  3.76it/s]\n",
            "                 Class     Images  Instances      Box(P          R      mAP50  mAP50-95): 100%|██████████| 3/3 [00:00<00:00,  3.09it/s]"
          ]
        },
        {
          "output_type": "stream",
          "name": "stdout",
          "text": [
            "                   all         94         94      0.828      0.521       0.71      0.285\n"
          ]
        },
        {
          "output_type": "stream",
          "name": "stderr",
          "text": [
            "\n"
          ]
        },
        {
          "output_type": "stream",
          "name": "stdout",
          "text": [
            "\n",
            "      Epoch    GPU_mem   box_loss   cls_loss   dfl_loss  Instances       Size\n"
          ]
        },
        {
          "output_type": "stream",
          "name": "stderr",
          "text": [
            "      23/50      2.15G       1.71      1.462      1.775         13        640: 100%|██████████| 24/24 [00:06<00:00,  3.50it/s]\n",
            "                 Class     Images  Instances      Box(P          R      mAP50  mAP50-95): 100%|██████████| 3/3 [00:01<00:00,  1.58it/s]"
          ]
        },
        {
          "output_type": "stream",
          "name": "stdout",
          "text": [
            "                   all         94         94      0.615      0.574      0.649      0.284\n"
          ]
        },
        {
          "output_type": "stream",
          "name": "stderr",
          "text": [
            "\n"
          ]
        },
        {
          "output_type": "stream",
          "name": "stdout",
          "text": [
            "\n",
            "      Epoch    GPU_mem   box_loss   cls_loss   dfl_loss  Instances       Size\n"
          ]
        },
        {
          "output_type": "stream",
          "name": "stderr",
          "text": [
            "      24/50      2.15G      1.768       1.55      1.773         20        640: 100%|██████████| 24/24 [00:06<00:00,  3.90it/s]\n",
            "                 Class     Images  Instances      Box(P          R      mAP50  mAP50-95): 100%|██████████| 3/3 [00:01<00:00,  2.91it/s]"
          ]
        },
        {
          "output_type": "stream",
          "name": "stdout",
          "text": [
            "                   all         94         94      0.706      0.596      0.675      0.257\n"
          ]
        },
        {
          "output_type": "stream",
          "name": "stderr",
          "text": [
            "\n"
          ]
        },
        {
          "output_type": "stream",
          "name": "stdout",
          "text": [
            "\n",
            "      Epoch    GPU_mem   box_loss   cls_loss   dfl_loss  Instances       Size\n"
          ]
        },
        {
          "output_type": "stream",
          "name": "stderr",
          "text": [
            "      25/50      2.15G      1.743      1.549      1.796         13        640: 100%|██████████| 24/24 [00:07<00:00,  3.29it/s]\n",
            "                 Class     Images  Instances      Box(P          R      mAP50  mAP50-95): 100%|██████████| 3/3 [00:01<00:00,  1.61it/s]"
          ]
        },
        {
          "output_type": "stream",
          "name": "stdout",
          "text": [
            "                   all         94         94      0.748      0.596      0.737      0.289\n"
          ]
        },
        {
          "output_type": "stream",
          "name": "stderr",
          "text": [
            "\n"
          ]
        },
        {
          "output_type": "stream",
          "name": "stdout",
          "text": [
            "\n",
            "      Epoch    GPU_mem   box_loss   cls_loss   dfl_loss  Instances       Size\n"
          ]
        },
        {
          "output_type": "stream",
          "name": "stderr",
          "text": [
            "      26/50      2.15G      1.727      1.495      1.765         19        640: 100%|██████████| 24/24 [00:05<00:00,  4.02it/s]\n",
            "                 Class     Images  Instances      Box(P          R      mAP50  mAP50-95): 100%|██████████| 3/3 [00:00<00:00,  3.04it/s]"
          ]
        },
        {
          "output_type": "stream",
          "name": "stdout",
          "text": [
            "                   all         94         94      0.763      0.753      0.803      0.365\n"
          ]
        },
        {
          "output_type": "stream",
          "name": "stderr",
          "text": [
            "\n"
          ]
        },
        {
          "output_type": "stream",
          "name": "stdout",
          "text": [
            "\n",
            "      Epoch    GPU_mem   box_loss   cls_loss   dfl_loss  Instances       Size\n"
          ]
        },
        {
          "output_type": "stream",
          "name": "stderr",
          "text": [
            "      27/50      2.15G      1.704      1.424      1.754         19        640: 100%|██████████| 24/24 [00:07<00:00,  3.39it/s]\n",
            "                 Class     Images  Instances      Box(P          R      mAP50  mAP50-95): 100%|██████████| 3/3 [00:02<00:00,  1.38it/s]"
          ]
        },
        {
          "output_type": "stream",
          "name": "stdout",
          "text": [
            "                   all         94         94      0.612      0.766      0.735      0.325\n"
          ]
        },
        {
          "output_type": "stream",
          "name": "stderr",
          "text": [
            "\n"
          ]
        },
        {
          "output_type": "stream",
          "name": "stdout",
          "text": [
            "\n",
            "      Epoch    GPU_mem   box_loss   cls_loss   dfl_loss  Instances       Size\n"
          ]
        },
        {
          "output_type": "stream",
          "name": "stderr",
          "text": [
            "      28/50      2.15G      1.692      1.418      1.764         20        640: 100%|██████████| 24/24 [00:05<00:00,  4.17it/s]\n",
            "                 Class     Images  Instances      Box(P          R      mAP50  mAP50-95): 100%|██████████| 3/3 [00:01<00:00,  2.81it/s]"
          ]
        },
        {
          "output_type": "stream",
          "name": "stdout",
          "text": [
            "                   all         94         94       0.61      0.702      0.702      0.287\n"
          ]
        },
        {
          "output_type": "stream",
          "name": "stderr",
          "text": [
            "\n"
          ]
        },
        {
          "output_type": "stream",
          "name": "stdout",
          "text": [
            "\n",
            "      Epoch    GPU_mem   box_loss   cls_loss   dfl_loss  Instances       Size\n"
          ]
        },
        {
          "output_type": "stream",
          "name": "stderr",
          "text": [
            "      29/50      2.15G      1.741      1.385      1.774         17        640: 100%|██████████| 24/24 [00:08<00:00,  2.99it/s]\n",
            "                 Class     Images  Instances      Box(P          R      mAP50  mAP50-95): 100%|██████████| 3/3 [00:01<00:00,  1.52it/s]"
          ]
        },
        {
          "output_type": "stream",
          "name": "stdout",
          "text": [
            "                   all         94         94      0.808      0.745      0.808      0.343\n"
          ]
        },
        {
          "output_type": "stream",
          "name": "stderr",
          "text": [
            "\n"
          ]
        },
        {
          "output_type": "stream",
          "name": "stdout",
          "text": [
            "\n",
            "      Epoch    GPU_mem   box_loss   cls_loss   dfl_loss  Instances       Size\n"
          ]
        },
        {
          "output_type": "stream",
          "name": "stderr",
          "text": [
            "      30/50      2.15G       1.62      1.314      1.701         14        640: 100%|██████████| 24/24 [00:05<00:00,  4.10it/s]\n",
            "                 Class     Images  Instances      Box(P          R      mAP50  mAP50-95): 100%|██████████| 3/3 [00:00<00:00,  3.29it/s]"
          ]
        },
        {
          "output_type": "stream",
          "name": "stdout",
          "text": [
            "                   all         94         94      0.787      0.755      0.818       0.35\n"
          ]
        },
        {
          "output_type": "stream",
          "name": "stderr",
          "text": [
            "\n"
          ]
        },
        {
          "output_type": "stream",
          "name": "stdout",
          "text": [
            "\n",
            "      Epoch    GPU_mem   box_loss   cls_loss   dfl_loss  Instances       Size\n"
          ]
        },
        {
          "output_type": "stream",
          "name": "stderr",
          "text": [
            "      31/50      2.15G       1.63      1.331      1.699         14        640: 100%|██████████| 24/24 [00:08<00:00,  2.93it/s]\n",
            "                 Class     Images  Instances      Box(P          R      mAP50  mAP50-95): 100%|██████████| 3/3 [00:01<00:00,  1.70it/s]"
          ]
        },
        {
          "output_type": "stream",
          "name": "stdout",
          "text": [
            "                   all         94         94       0.62      0.643      0.663      0.297\n"
          ]
        },
        {
          "output_type": "stream",
          "name": "stderr",
          "text": [
            "\n"
          ]
        },
        {
          "output_type": "stream",
          "name": "stdout",
          "text": [
            "\n",
            "      Epoch    GPU_mem   box_loss   cls_loss   dfl_loss  Instances       Size\n"
          ]
        },
        {
          "output_type": "stream",
          "name": "stderr",
          "text": [
            "      32/50      2.15G      1.617      1.358      1.688         15        640: 100%|██████████| 24/24 [00:05<00:00,  4.17it/s]\n",
            "                 Class     Images  Instances      Box(P          R      mAP50  mAP50-95): 100%|██████████| 3/3 [00:00<00:00,  3.06it/s]"
          ]
        },
        {
          "output_type": "stream",
          "name": "stdout",
          "text": [
            "                   all         94         94      0.791      0.713       0.79      0.352\n"
          ]
        },
        {
          "output_type": "stream",
          "name": "stderr",
          "text": [
            "\n"
          ]
        },
        {
          "output_type": "stream",
          "name": "stdout",
          "text": [
            "\n",
            "      Epoch    GPU_mem   box_loss   cls_loss   dfl_loss  Instances       Size\n"
          ]
        },
        {
          "output_type": "stream",
          "name": "stderr",
          "text": [
            "      33/50      2.15G      1.639      1.313      1.689         18        640: 100%|██████████| 24/24 [00:07<00:00,  3.00it/s]\n",
            "                 Class     Images  Instances      Box(P          R      mAP50  mAP50-95): 100%|██████████| 3/3 [00:02<00:00,  1.48it/s]"
          ]
        },
        {
          "output_type": "stream",
          "name": "stdout",
          "text": [
            "                   all         94         94      0.798      0.758      0.796      0.354\n"
          ]
        },
        {
          "output_type": "stream",
          "name": "stderr",
          "text": [
            "\n"
          ]
        },
        {
          "output_type": "stream",
          "name": "stdout",
          "text": [
            "\n",
            "      Epoch    GPU_mem   box_loss   cls_loss   dfl_loss  Instances       Size\n"
          ]
        },
        {
          "output_type": "stream",
          "name": "stderr",
          "text": [
            "      34/50      2.15G      1.655      1.352      1.691         21        640: 100%|██████████| 24/24 [00:05<00:00,  4.24it/s]\n",
            "                 Class     Images  Instances      Box(P          R      mAP50  mAP50-95): 100%|██████████| 3/3 [00:01<00:00,  2.66it/s]"
          ]
        },
        {
          "output_type": "stream",
          "name": "stdout",
          "text": [
            "                   all         94         94      0.813      0.745      0.809       0.37\n"
          ]
        },
        {
          "output_type": "stream",
          "name": "stderr",
          "text": [
            "\n"
          ]
        },
        {
          "output_type": "stream",
          "name": "stdout",
          "text": [
            "\n",
            "      Epoch    GPU_mem   box_loss   cls_loss   dfl_loss  Instances       Size\n"
          ]
        },
        {
          "output_type": "stream",
          "name": "stderr",
          "text": [
            "      35/50      2.15G      1.576       1.31      1.666         12        640: 100%|██████████| 24/24 [00:08<00:00,  2.92it/s]\n",
            "                 Class     Images  Instances      Box(P          R      mAP50  mAP50-95): 100%|██████████| 3/3 [00:01<00:00,  2.57it/s]"
          ]
        },
        {
          "output_type": "stream",
          "name": "stdout",
          "text": [
            "                   all         94         94      0.833      0.787      0.862      0.384\n"
          ]
        },
        {
          "output_type": "stream",
          "name": "stderr",
          "text": [
            "\n"
          ]
        },
        {
          "output_type": "stream",
          "name": "stdout",
          "text": [
            "\n",
            "      Epoch    GPU_mem   box_loss   cls_loss   dfl_loss  Instances       Size\n"
          ]
        },
        {
          "output_type": "stream",
          "name": "stderr",
          "text": [
            "      36/50      2.15G      1.553      1.247      1.615         18        640: 100%|██████████| 24/24 [00:05<00:00,  4.15it/s]\n",
            "                 Class     Images  Instances      Box(P          R      mAP50  mAP50-95): 100%|██████████| 3/3 [00:00<00:00,  3.06it/s]"
          ]
        },
        {
          "output_type": "stream",
          "name": "stdout",
          "text": [
            "                   all         94         94        0.7      0.819        0.8       0.38\n"
          ]
        },
        {
          "output_type": "stream",
          "name": "stderr",
          "text": [
            "\n"
          ]
        },
        {
          "output_type": "stream",
          "name": "stdout",
          "text": [
            "\n",
            "      Epoch    GPU_mem   box_loss   cls_loss   dfl_loss  Instances       Size\n"
          ]
        },
        {
          "output_type": "stream",
          "name": "stderr",
          "text": [
            "      37/50      2.15G      1.588      1.219      1.622         18        640: 100%|██████████| 24/24 [00:08<00:00,  2.78it/s]\n",
            "                 Class     Images  Instances      Box(P          R      mAP50  mAP50-95): 100%|██████████| 3/3 [00:00<00:00,  3.08it/s]"
          ]
        },
        {
          "output_type": "stream",
          "name": "stdout",
          "text": [
            "                   all         94         94      0.853      0.819      0.891      0.415\n"
          ]
        },
        {
          "output_type": "stream",
          "name": "stderr",
          "text": [
            "\n"
          ]
        },
        {
          "output_type": "stream",
          "name": "stdout",
          "text": [
            "\n",
            "      Epoch    GPU_mem   box_loss   cls_loss   dfl_loss  Instances       Size\n"
          ]
        },
        {
          "output_type": "stream",
          "name": "stderr",
          "text": [
            "      38/50      2.15G      1.559      1.229      1.617          9        640: 100%|██████████| 24/24 [00:05<00:00,  4.19it/s]\n",
            "                 Class     Images  Instances      Box(P          R      mAP50  mAP50-95): 100%|██████████| 3/3 [00:01<00:00,  2.62it/s]"
          ]
        },
        {
          "output_type": "stream",
          "name": "stdout",
          "text": [
            "                   all         94         94      0.743      0.819      0.822       0.41\n"
          ]
        },
        {
          "output_type": "stream",
          "name": "stderr",
          "text": [
            "\n"
          ]
        },
        {
          "output_type": "stream",
          "name": "stdout",
          "text": [
            "\n",
            "      Epoch    GPU_mem   box_loss   cls_loss   dfl_loss  Instances       Size\n"
          ]
        },
        {
          "output_type": "stream",
          "name": "stderr",
          "text": [
            "      39/50      2.15G      1.566      1.181      1.628         13        640: 100%|██████████| 24/24 [00:08<00:00,  2.75it/s]\n",
            "                 Class     Images  Instances      Box(P          R      mAP50  mAP50-95): 100%|██████████| 3/3 [00:00<00:00,  3.04it/s]"
          ]
        },
        {
          "output_type": "stream",
          "name": "stdout",
          "text": [
            "                   all         94         94      0.772      0.794      0.847      0.398\n"
          ]
        },
        {
          "output_type": "stream",
          "name": "stderr",
          "text": [
            "\n"
          ]
        },
        {
          "output_type": "stream",
          "name": "stdout",
          "text": [
            "\n",
            "      Epoch    GPU_mem   box_loss   cls_loss   dfl_loss  Instances       Size\n"
          ]
        },
        {
          "output_type": "stream",
          "name": "stderr",
          "text": [
            "      40/50      2.15G      1.515      1.195       1.61         17        640: 100%|██████████| 24/24 [00:05<00:00,  4.14it/s]\n",
            "                 Class     Images  Instances      Box(P          R      mAP50  mAP50-95): 100%|██████████| 3/3 [00:00<00:00,  3.06it/s]"
          ]
        },
        {
          "output_type": "stream",
          "name": "stdout",
          "text": [
            "                   all         94         94      0.882      0.798      0.859      0.395\n"
          ]
        },
        {
          "output_type": "stream",
          "name": "stderr",
          "text": [
            "\n"
          ]
        },
        {
          "output_type": "stream",
          "name": "stdout",
          "text": [
            "Closing dataloader mosaic\n",
            "\u001b[34m\u001b[1malbumentations: \u001b[0mBlur(p=0.01, blur_limit=(3, 7)), MedianBlur(p=0.01, blur_limit=(3, 7)), ToGray(p=0.01, num_output_channels=3, method='weighted_average'), CLAHE(p=0.01, clip_limit=(1, 4.0), tile_grid_size=(8, 8))\n"
          ]
        },
        {
          "output_type": "stream",
          "name": "stderr",
          "text": [
            "os.fork() was called. os.fork() is incompatible with multithreaded code, and JAX is multithreaded, so this will likely lead to a deadlock.\n",
            "os.fork() was called. os.fork() is incompatible with multithreaded code, and JAX is multithreaded, so this will likely lead to a deadlock.\n"
          ]
        },
        {
          "output_type": "stream",
          "name": "stdout",
          "text": [
            "\n",
            "      Epoch    GPU_mem   box_loss   cls_loss   dfl_loss  Instances       Size\n"
          ]
        },
        {
          "output_type": "stream",
          "name": "stderr",
          "text": [
            "      41/50      2.22G      1.522      1.087       1.68          9        640: 100%|██████████| 24/24 [00:10<00:00,  2.22it/s]\n",
            "                 Class     Images  Instances      Box(P          R      mAP50  mAP50-95): 100%|██████████| 3/3 [00:01<00:00,  2.95it/s]"
          ]
        },
        {
          "output_type": "stream",
          "name": "stdout",
          "text": [
            "                   all         94         94      0.834      0.787      0.861      0.403\n"
          ]
        },
        {
          "output_type": "stream",
          "name": "stderr",
          "text": [
            "\n"
          ]
        },
        {
          "output_type": "stream",
          "name": "stdout",
          "text": [
            "\n",
            "      Epoch    GPU_mem   box_loss   cls_loss   dfl_loss  Instances       Size\n"
          ]
        },
        {
          "output_type": "stream",
          "name": "stderr",
          "text": [
            "      42/50      2.15G      1.495      1.038      1.663          9        640: 100%|██████████| 24/24 [00:05<00:00,  4.33it/s]\n",
            "                 Class     Images  Instances      Box(P          R      mAP50  mAP50-95): 100%|██████████| 3/3 [00:01<00:00,  2.42it/s]"
          ]
        },
        {
          "output_type": "stream",
          "name": "stdout",
          "text": [
            "                   all         94         94      0.785      0.814      0.844      0.407\n"
          ]
        },
        {
          "output_type": "stream",
          "name": "stderr",
          "text": [
            "\n"
          ]
        },
        {
          "output_type": "stream",
          "name": "stdout",
          "text": [
            "\n",
            "      Epoch    GPU_mem   box_loss   cls_loss   dfl_loss  Instances       Size\n"
          ]
        },
        {
          "output_type": "stream",
          "name": "stderr",
          "text": [
            "      43/50      2.15G      1.464       0.97      1.651          9        640: 100%|██████████| 24/24 [00:08<00:00,  2.95it/s]\n",
            "                 Class     Images  Instances      Box(P          R      mAP50  mAP50-95): 100%|██████████| 3/3 [00:00<00:00,  3.50it/s]"
          ]
        },
        {
          "output_type": "stream",
          "name": "stdout",
          "text": [
            "                   all         94         94      0.767       0.84      0.833      0.403\n"
          ]
        },
        {
          "output_type": "stream",
          "name": "stderr",
          "text": [
            "\n"
          ]
        },
        {
          "output_type": "stream",
          "name": "stdout",
          "text": [
            "\n",
            "      Epoch    GPU_mem   box_loss   cls_loss   dfl_loss  Instances       Size\n"
          ]
        },
        {
          "output_type": "stream",
          "name": "stderr",
          "text": [
            "      44/50      2.15G      1.419     0.9714      1.603          9        640: 100%|██████████| 24/24 [00:05<00:00,  4.50it/s]\n",
            "                 Class     Images  Instances      Box(P          R      mAP50  mAP50-95): 100%|██████████| 3/3 [00:00<00:00,  3.38it/s]"
          ]
        },
        {
          "output_type": "stream",
          "name": "stdout",
          "text": [
            "                   all         94         94      0.791      0.763      0.826      0.418\n"
          ]
        },
        {
          "output_type": "stream",
          "name": "stderr",
          "text": [
            "\n"
          ]
        },
        {
          "output_type": "stream",
          "name": "stdout",
          "text": [
            "\n",
            "      Epoch    GPU_mem   box_loss   cls_loss   dfl_loss  Instances       Size\n"
          ]
        },
        {
          "output_type": "stream",
          "name": "stderr",
          "text": [
            "      45/50      2.15G      1.445     0.9397      1.625          9        640: 100%|██████████| 24/24 [00:09<00:00,  2.62it/s]\n",
            "                 Class     Images  Instances      Box(P          R      mAP50  mAP50-95): 100%|██████████| 3/3 [00:00<00:00,  3.13it/s]"
          ]
        },
        {
          "output_type": "stream",
          "name": "stdout",
          "text": [
            "                   all         94         94      0.767      0.915      0.887      0.434\n"
          ]
        },
        {
          "output_type": "stream",
          "name": "stderr",
          "text": [
            "\n"
          ]
        },
        {
          "output_type": "stream",
          "name": "stdout",
          "text": [
            "\n",
            "      Epoch    GPU_mem   box_loss   cls_loss   dfl_loss  Instances       Size\n"
          ]
        },
        {
          "output_type": "stream",
          "name": "stderr",
          "text": [
            "      46/50      2.15G      1.396      0.929      1.617          9        640: 100%|██████████| 24/24 [00:05<00:00,  4.41it/s]\n",
            "                 Class     Images  Instances      Box(P          R      mAP50  mAP50-95): 100%|██████████| 3/3 [00:00<00:00,  3.40it/s]"
          ]
        },
        {
          "output_type": "stream",
          "name": "stdout",
          "text": [
            "                   all         94         94      0.797      0.819      0.862      0.426\n"
          ]
        },
        {
          "output_type": "stream",
          "name": "stderr",
          "text": [
            "\n"
          ]
        },
        {
          "output_type": "stream",
          "name": "stdout",
          "text": [
            "\n",
            "      Epoch    GPU_mem   box_loss   cls_loss   dfl_loss  Instances       Size\n"
          ]
        },
        {
          "output_type": "stream",
          "name": "stderr",
          "text": [
            "      47/50      2.15G      1.357     0.8952      1.583          9        640: 100%|██████████| 24/24 [00:07<00:00,  3.02it/s]\n",
            "                 Class     Images  Instances      Box(P          R      mAP50  mAP50-95): 100%|██████████| 3/3 [00:01<00:00,  2.94it/s]"
          ]
        },
        {
          "output_type": "stream",
          "name": "stdout",
          "text": [
            "                   all         94         94      0.774      0.837      0.853       0.43\n"
          ]
        },
        {
          "output_type": "stream",
          "name": "stderr",
          "text": [
            "\n"
          ]
        },
        {
          "output_type": "stream",
          "name": "stdout",
          "text": [
            "\n",
            "      Epoch    GPU_mem   box_loss   cls_loss   dfl_loss  Instances       Size\n"
          ]
        },
        {
          "output_type": "stream",
          "name": "stderr",
          "text": [
            "      48/50      2.15G      1.371     0.8585      1.569          9        640: 100%|██████████| 24/24 [00:05<00:00,  4.46it/s]\n",
            "                 Class     Images  Instances      Box(P          R      mAP50  mAP50-95): 100%|██████████| 3/3 [00:01<00:00,  2.93it/s]"
          ]
        },
        {
          "output_type": "stream",
          "name": "stdout",
          "text": [
            "                   all         94         94      0.757      0.851      0.863      0.436\n"
          ]
        },
        {
          "output_type": "stream",
          "name": "stderr",
          "text": [
            "\n"
          ]
        },
        {
          "output_type": "stream",
          "name": "stdout",
          "text": [
            "\n",
            "      Epoch    GPU_mem   box_loss   cls_loss   dfl_loss  Instances       Size\n"
          ]
        },
        {
          "output_type": "stream",
          "name": "stderr",
          "text": [
            "      49/50      2.15G      1.367     0.8603      1.553          9        640: 100%|██████████| 24/24 [00:08<00:00,  2.93it/s]\n",
            "                 Class     Images  Instances      Box(P          R      mAP50  mAP50-95): 100%|██████████| 3/3 [00:01<00:00,  1.67it/s]"
          ]
        },
        {
          "output_type": "stream",
          "name": "stdout",
          "text": [
            "                   all         94         94      0.788       0.83      0.878      0.444\n"
          ]
        },
        {
          "output_type": "stream",
          "name": "stderr",
          "text": [
            "\n"
          ]
        },
        {
          "output_type": "stream",
          "name": "stdout",
          "text": [
            "\n",
            "      Epoch    GPU_mem   box_loss   cls_loss   dfl_loss  Instances       Size\n"
          ]
        },
        {
          "output_type": "stream",
          "name": "stderr",
          "text": [
            "      50/50      2.15G      1.343     0.8288      1.537          9        640: 100%|██████████| 24/24 [00:05<00:00,  4.45it/s]\n",
            "                 Class     Images  Instances      Box(P          R      mAP50  mAP50-95): 100%|██████████| 3/3 [00:01<00:00,  2.98it/s]"
          ]
        },
        {
          "output_type": "stream",
          "name": "stdout",
          "text": [
            "                   all         94         94      0.792      0.872      0.882      0.446\n"
          ]
        },
        {
          "output_type": "stream",
          "name": "stderr",
          "text": [
            "\n"
          ]
        },
        {
          "output_type": "stream",
          "name": "stdout",
          "text": [
            "\n",
            "50 epochs completed in 0.127 hours.\n",
            "Optimizer stripped from runs/detect/train2/weights/last.pt, 6.3MB\n",
            "Optimizer stripped from runs/detect/train2/weights/best.pt, 6.3MB\n",
            "\n",
            "Validating runs/detect/train2/weights/best.pt...\n",
            "Ultralytics 8.3.31 🚀 Python-3.10.12 torch-2.4.1+cu121 CUDA:0 (Tesla T4, 15102MiB)\n",
            "Model summary (fused): 168 layers, 3,005,843 parameters, 0 gradients, 8.1 GFLOPs\n"
          ]
        },
        {
          "output_type": "stream",
          "name": "stderr",
          "text": [
            "                 Class     Images  Instances      Box(P          R      mAP50  mAP50-95): 100%|██████████| 3/3 [00:01<00:00,  2.38it/s]\n"
          ]
        },
        {
          "output_type": "stream",
          "name": "stdout",
          "text": [
            "                   all         94         94      0.792      0.872      0.882      0.446\n",
            "Speed: 0.2ms preprocess, 2.5ms inference, 0.0ms loss, 1.8ms postprocess per image\n",
            "Results saved to \u001b[1mruns/detect/train2\u001b[0m\n"
          ]
        },
        {
          "output_type": "execute_result",
          "data": {
            "text/plain": [
              "ultralytics.utils.metrics.DetMetrics object with attributes:\n",
              "\n",
              "ap_class_index: array([0])\n",
              "box: ultralytics.utils.metrics.Metric object\n",
              "confusion_matrix: <ultralytics.utils.metrics.ConfusionMatrix object at 0x7979e8d10d90>\n",
              "curves: ['Precision-Recall(B)', 'F1-Confidence(B)', 'Precision-Confidence(B)', 'Recall-Confidence(B)']\n",
              "curves_results: [[array([          0,    0.001001,    0.002002,    0.003003,    0.004004,    0.005005,    0.006006,    0.007007,    0.008008,    0.009009,     0.01001,    0.011011,    0.012012,    0.013013,    0.014014,    0.015015,    0.016016,    0.017017,    0.018018,    0.019019,     0.02002,    0.021021,    0.022022,    0.023023,\n",
              "          0.024024,    0.025025,    0.026026,    0.027027,    0.028028,    0.029029,     0.03003,    0.031031,    0.032032,    0.033033,    0.034034,    0.035035,    0.036036,    0.037037,    0.038038,    0.039039,     0.04004,    0.041041,    0.042042,    0.043043,    0.044044,    0.045045,    0.046046,    0.047047,\n",
              "          0.048048,    0.049049,     0.05005,    0.051051,    0.052052,    0.053053,    0.054054,    0.055055,    0.056056,    0.057057,    0.058058,    0.059059,     0.06006,    0.061061,    0.062062,    0.063063,    0.064064,    0.065065,    0.066066,    0.067067,    0.068068,    0.069069,     0.07007,    0.071071,\n",
              "          0.072072,    0.073073,    0.074074,    0.075075,    0.076076,    0.077077,    0.078078,    0.079079,     0.08008,    0.081081,    0.082082,    0.083083,    0.084084,    0.085085,    0.086086,    0.087087,    0.088088,    0.089089,     0.09009,    0.091091,    0.092092,    0.093093,    0.094094,    0.095095,\n",
              "          0.096096,    0.097097,    0.098098,    0.099099,      0.1001,      0.1011,      0.1021,      0.1031,      0.1041,     0.10511,     0.10611,     0.10711,     0.10811,     0.10911,     0.11011,     0.11111,     0.11211,     0.11311,     0.11411,     0.11512,     0.11612,     0.11712,     0.11812,     0.11912,\n",
              "           0.12012,     0.12112,     0.12212,     0.12312,     0.12412,     0.12513,     0.12613,     0.12713,     0.12813,     0.12913,     0.13013,     0.13113,     0.13213,     0.13313,     0.13413,     0.13514,     0.13614,     0.13714,     0.13814,     0.13914,     0.14014,     0.14114,     0.14214,     0.14314,\n",
              "           0.14414,     0.14515,     0.14615,     0.14715,     0.14815,     0.14915,     0.15015,     0.15115,     0.15215,     0.15315,     0.15415,     0.15516,     0.15616,     0.15716,     0.15816,     0.15916,     0.16016,     0.16116,     0.16216,     0.16316,     0.16416,     0.16517,     0.16617,     0.16717,\n",
              "           0.16817,     0.16917,     0.17017,     0.17117,     0.17217,     0.17317,     0.17417,     0.17518,     0.17618,     0.17718,     0.17818,     0.17918,     0.18018,     0.18118,     0.18218,     0.18318,     0.18418,     0.18519,     0.18619,     0.18719,     0.18819,     0.18919,     0.19019,     0.19119,\n",
              "           0.19219,     0.19319,     0.19419,      0.1952,      0.1962,      0.1972,      0.1982,      0.1992,      0.2002,      0.2012,      0.2022,      0.2032,      0.2042,     0.20521,     0.20621,     0.20721,     0.20821,     0.20921,     0.21021,     0.21121,     0.21221,     0.21321,     0.21421,     0.21522,\n",
              "           0.21622,     0.21722,     0.21822,     0.21922,     0.22022,     0.22122,     0.22222,     0.22322,     0.22422,     0.22523,     0.22623,     0.22723,     0.22823,     0.22923,     0.23023,     0.23123,     0.23223,     0.23323,     0.23423,     0.23524,     0.23624,     0.23724,     0.23824,     0.23924,\n",
              "           0.24024,     0.24124,     0.24224,     0.24324,     0.24424,     0.24525,     0.24625,     0.24725,     0.24825,     0.24925,     0.25025,     0.25125,     0.25225,     0.25325,     0.25425,     0.25526,     0.25626,     0.25726,     0.25826,     0.25926,     0.26026,     0.26126,     0.26226,     0.26326,\n",
              "           0.26426,     0.26527,     0.26627,     0.26727,     0.26827,     0.26927,     0.27027,     0.27127,     0.27227,     0.27327,     0.27427,     0.27528,     0.27628,     0.27728,     0.27828,     0.27928,     0.28028,     0.28128,     0.28228,     0.28328,     0.28428,     0.28529,     0.28629,     0.28729,\n",
              "           0.28829,     0.28929,     0.29029,     0.29129,     0.29229,     0.29329,     0.29429,      0.2953,      0.2963,      0.2973,      0.2983,      0.2993,      0.3003,      0.3013,      0.3023,      0.3033,      0.3043,     0.30531,     0.30631,     0.30731,     0.30831,     0.30931,     0.31031,     0.31131,\n",
              "           0.31231,     0.31331,     0.31431,     0.31532,     0.31632,     0.31732,     0.31832,     0.31932,     0.32032,     0.32132,     0.32232,     0.32332,     0.32432,     0.32533,     0.32633,     0.32733,     0.32833,     0.32933,     0.33033,     0.33133,     0.33233,     0.33333,     0.33433,     0.33534,\n",
              "           0.33634,     0.33734,     0.33834,     0.33934,     0.34034,     0.34134,     0.34234,     0.34334,     0.34434,     0.34535,     0.34635,     0.34735,     0.34835,     0.34935,     0.35035,     0.35135,     0.35235,     0.35335,     0.35435,     0.35536,     0.35636,     0.35736,     0.35836,     0.35936,\n",
              "           0.36036,     0.36136,     0.36236,     0.36336,     0.36436,     0.36537,     0.36637,     0.36737,     0.36837,     0.36937,     0.37037,     0.37137,     0.37237,     0.37337,     0.37437,     0.37538,     0.37638,     0.37738,     0.37838,     0.37938,     0.38038,     0.38138,     0.38238,     0.38338,\n",
              "           0.38438,     0.38539,     0.38639,     0.38739,     0.38839,     0.38939,     0.39039,     0.39139,     0.39239,     0.39339,     0.39439,      0.3954,      0.3964,      0.3974,      0.3984,      0.3994,      0.4004,      0.4014,      0.4024,      0.4034,      0.4044,     0.40541,     0.40641,     0.40741,\n",
              "           0.40841,     0.40941,     0.41041,     0.41141,     0.41241,     0.41341,     0.41441,     0.41542,     0.41642,     0.41742,     0.41842,     0.41942,     0.42042,     0.42142,     0.42242,     0.42342,     0.42442,     0.42543,     0.42643,     0.42743,     0.42843,     0.42943,     0.43043,     0.43143,\n",
              "           0.43243,     0.43343,     0.43443,     0.43544,     0.43644,     0.43744,     0.43844,     0.43944,     0.44044,     0.44144,     0.44244,     0.44344,     0.44444,     0.44545,     0.44645,     0.44745,     0.44845,     0.44945,     0.45045,     0.45145,     0.45245,     0.45345,     0.45445,     0.45546,\n",
              "           0.45646,     0.45746,     0.45846,     0.45946,     0.46046,     0.46146,     0.46246,     0.46346,     0.46446,     0.46547,     0.46647,     0.46747,     0.46847,     0.46947,     0.47047,     0.47147,     0.47247,     0.47347,     0.47447,     0.47548,     0.47648,     0.47748,     0.47848,     0.47948,\n",
              "           0.48048,     0.48148,     0.48248,     0.48348,     0.48448,     0.48549,     0.48649,     0.48749,     0.48849,     0.48949,     0.49049,     0.49149,     0.49249,     0.49349,     0.49449,      0.4955,      0.4965,      0.4975,      0.4985,      0.4995,      0.5005,      0.5015,      0.5025,      0.5035,\n",
              "            0.5045,     0.50551,     0.50651,     0.50751,     0.50851,     0.50951,     0.51051,     0.51151,     0.51251,     0.51351,     0.51451,     0.51552,     0.51652,     0.51752,     0.51852,     0.51952,     0.52052,     0.52152,     0.52252,     0.52352,     0.52452,     0.52553,     0.52653,     0.52753,\n",
              "           0.52853,     0.52953,     0.53053,     0.53153,     0.53253,     0.53353,     0.53453,     0.53554,     0.53654,     0.53754,     0.53854,     0.53954,     0.54054,     0.54154,     0.54254,     0.54354,     0.54454,     0.54555,     0.54655,     0.54755,     0.54855,     0.54955,     0.55055,     0.55155,\n",
              "           0.55255,     0.55355,     0.55455,     0.55556,     0.55656,     0.55756,     0.55856,     0.55956,     0.56056,     0.56156,     0.56256,     0.56356,     0.56456,     0.56557,     0.56657,     0.56757,     0.56857,     0.56957,     0.57057,     0.57157,     0.57257,     0.57357,     0.57457,     0.57558,\n",
              "           0.57658,     0.57758,     0.57858,     0.57958,     0.58058,     0.58158,     0.58258,     0.58358,     0.58458,     0.58559,     0.58659,     0.58759,     0.58859,     0.58959,     0.59059,     0.59159,     0.59259,     0.59359,     0.59459,      0.5956,      0.5966,      0.5976,      0.5986,      0.5996,\n",
              "            0.6006,      0.6016,      0.6026,      0.6036,      0.6046,     0.60561,     0.60661,     0.60761,     0.60861,     0.60961,     0.61061,     0.61161,     0.61261,     0.61361,     0.61461,     0.61562,     0.61662,     0.61762,     0.61862,     0.61962,     0.62062,     0.62162,     0.62262,     0.62362,\n",
              "           0.62462,     0.62563,     0.62663,     0.62763,     0.62863,     0.62963,     0.63063,     0.63163,     0.63263,     0.63363,     0.63463,     0.63564,     0.63664,     0.63764,     0.63864,     0.63964,     0.64064,     0.64164,     0.64264,     0.64364,     0.64464,     0.64565,     0.64665,     0.64765,\n",
              "           0.64865,     0.64965,     0.65065,     0.65165,     0.65265,     0.65365,     0.65465,     0.65566,     0.65666,     0.65766,     0.65866,     0.65966,     0.66066,     0.66166,     0.66266,     0.66366,     0.66466,     0.66567,     0.66667,     0.66767,     0.66867,     0.66967,     0.67067,     0.67167,\n",
              "           0.67267,     0.67367,     0.67467,     0.67568,     0.67668,     0.67768,     0.67868,     0.67968,     0.68068,     0.68168,     0.68268,     0.68368,     0.68468,     0.68569,     0.68669,     0.68769,     0.68869,     0.68969,     0.69069,     0.69169,     0.69269,     0.69369,     0.69469,      0.6957,\n",
              "            0.6967,      0.6977,      0.6987,      0.6997,      0.7007,      0.7017,      0.7027,      0.7037,      0.7047,     0.70571,     0.70671,     0.70771,     0.70871,     0.70971,     0.71071,     0.71171,     0.71271,     0.71371,     0.71471,     0.71572,     0.71672,     0.71772,     0.71872,     0.71972,\n",
              "           0.72072,     0.72172,     0.72272,     0.72372,     0.72472,     0.72573,     0.72673,     0.72773,     0.72873,     0.72973,     0.73073,     0.73173,     0.73273,     0.73373,     0.73473,     0.73574,     0.73674,     0.73774,     0.73874,     0.73974,     0.74074,     0.74174,     0.74274,     0.74374,\n",
              "           0.74474,     0.74575,     0.74675,     0.74775,     0.74875,     0.74975,     0.75075,     0.75175,     0.75275,     0.75375,     0.75475,     0.75576,     0.75676,     0.75776,     0.75876,     0.75976,     0.76076,     0.76176,     0.76276,     0.76376,     0.76476,     0.76577,     0.76677,     0.76777,\n",
              "           0.76877,     0.76977,     0.77077,     0.77177,     0.77277,     0.77377,     0.77477,     0.77578,     0.77678,     0.77778,     0.77878,     0.77978,     0.78078,     0.78178,     0.78278,     0.78378,     0.78478,     0.78579,     0.78679,     0.78779,     0.78879,     0.78979,     0.79079,     0.79179,\n",
              "           0.79279,     0.79379,     0.79479,      0.7958,      0.7968,      0.7978,      0.7988,      0.7998,      0.8008,      0.8018,      0.8028,      0.8038,      0.8048,     0.80581,     0.80681,     0.80781,     0.80881,     0.80981,     0.81081,     0.81181,     0.81281,     0.81381,     0.81481,     0.81582,\n",
              "           0.81682,     0.81782,     0.81882,     0.81982,     0.82082,     0.82182,     0.82282,     0.82382,     0.82482,     0.82583,     0.82683,     0.82783,     0.82883,     0.82983,     0.83083,     0.83183,     0.83283,     0.83383,     0.83483,     0.83584,     0.83684,     0.83784,     0.83884,     0.83984,\n",
              "           0.84084,     0.84184,     0.84284,     0.84384,     0.84484,     0.84585,     0.84685,     0.84785,     0.84885,     0.84985,     0.85085,     0.85185,     0.85285,     0.85385,     0.85485,     0.85586,     0.85686,     0.85786,     0.85886,     0.85986,     0.86086,     0.86186,     0.86286,     0.86386,\n",
              "           0.86486,     0.86587,     0.86687,     0.86787,     0.86887,     0.86987,     0.87087,     0.87187,     0.87287,     0.87387,     0.87487,     0.87588,     0.87688,     0.87788,     0.87888,     0.87988,     0.88088,     0.88188,     0.88288,     0.88388,     0.88488,     0.88589,     0.88689,     0.88789,\n",
              "           0.88889,     0.88989,     0.89089,     0.89189,     0.89289,     0.89389,     0.89489,      0.8959,      0.8969,      0.8979,      0.8989,      0.8999,      0.9009,      0.9019,      0.9029,      0.9039,      0.9049,     0.90591,     0.90691,     0.90791,     0.90891,     0.90991,     0.91091,     0.91191,\n",
              "           0.91291,     0.91391,     0.91491,     0.91592,     0.91692,     0.91792,     0.91892,     0.91992,     0.92092,     0.92192,     0.92292,     0.92392,     0.92492,     0.92593,     0.92693,     0.92793,     0.92893,     0.92993,     0.93093,     0.93193,     0.93293,     0.93393,     0.93493,     0.93594,\n",
              "           0.93694,     0.93794,     0.93894,     0.93994,     0.94094,     0.94194,     0.94294,     0.94394,     0.94494,     0.94595,     0.94695,     0.94795,     0.94895,     0.94995,     0.95095,     0.95195,     0.95295,     0.95395,     0.95495,     0.95596,     0.95696,     0.95796,     0.95896,     0.95996,\n",
              "           0.96096,     0.96196,     0.96296,     0.96396,     0.96496,     0.96597,     0.96697,     0.96797,     0.96897,     0.96997,     0.97097,     0.97197,     0.97297,     0.97397,     0.97497,     0.97598,     0.97698,     0.97798,     0.97898,     0.97998,     0.98098,     0.98198,     0.98298,     0.98398,\n",
              "           0.98498,     0.98599,     0.98699,     0.98799,     0.98899,     0.98999,     0.99099,     0.99199,     0.99299,     0.99399,     0.99499,       0.996,       0.997,       0.998,       0.999,           1]), array([[          1,           1,           1,           1,           1,           1,           1,           1,           1,           1,           1,           1,           1,           1,           1,           1,           1,           1,           1,           1,           1,           1,           1,\n",
              "                  1,           1,           1,           1,           1,           1,           1,           1,           1,        0.96,        0.96,        0.96,        0.96,        0.96,        0.96,        0.96,        0.96,        0.96,        0.96,        0.96,        0.96,        0.96,        0.96,\n",
              "               0.96,        0.96,        0.96,        0.96,        0.96,        0.96,        0.96,        0.96,        0.96,        0.96,        0.96,        0.96,        0.96,        0.96,        0.96,        0.96,        0.96,        0.96,        0.96,        0.96,        0.96,        0.96,        0.96,\n",
              "               0.96,        0.96,        0.96,        0.96,        0.96,        0.96,        0.96,        0.96,        0.96,        0.96,        0.96,        0.96,        0.96,        0.96,        0.96,        0.96,        0.96,        0.96,        0.96,        0.96,        0.96,        0.96,        0.96,\n",
              "               0.96,        0.96,        0.96,        0.96,        0.96,        0.96,        0.96,        0.96,        0.96,        0.96,        0.96,        0.96,        0.96,        0.96,        0.96,        0.96,        0.96,        0.96,        0.96,        0.96,        0.96,        0.96,        0.96,\n",
              "               0.96,        0.96,        0.96,        0.96,        0.96,        0.96,        0.96,        0.96,        0.96,        0.96,        0.96,        0.96,        0.96,        0.96,        0.96,        0.96,        0.96,        0.96,        0.96,        0.96,        0.96,        0.96,        0.96,\n",
              "               0.96,        0.96,        0.96,        0.96,        0.96,        0.96,        0.96,        0.96,        0.96,        0.96,        0.96,        0.96,        0.96,        0.96,        0.96,        0.96,        0.96,        0.96,        0.96,        0.96,        0.96,        0.96,        0.96,\n",
              "               0.96,        0.96,        0.96,        0.96,        0.96,        0.96,        0.96,        0.96,        0.96,        0.96,        0.96,        0.96,        0.96,        0.96,        0.96,        0.96,        0.96,        0.96,        0.96,        0.96,        0.96,        0.96,        0.96,\n",
              "               0.96,        0.96,        0.96,        0.96,        0.96,        0.96,        0.96,        0.96,        0.96,        0.96,        0.96,        0.96,        0.96,        0.96,        0.96,        0.96,        0.96,        0.96,        0.96,        0.96,        0.96,        0.96,        0.96,\n",
              "               0.96,        0.96,        0.96,        0.96,        0.96,        0.96,        0.96,        0.96,        0.96,        0.96,        0.96,        0.96,        0.96,        0.96,        0.96,        0.96,        0.96,        0.96,        0.96,        0.96,        0.96,        0.96,        0.96,\n",
              "               0.96,        0.96,        0.96,        0.96,        0.96,        0.96,        0.96,        0.96,        0.96,        0.96,        0.96,        0.96,        0.96,        0.96,        0.96,        0.96,        0.96,        0.96,        0.96,        0.96,        0.96,        0.96,        0.96,\n",
              "               0.96,        0.96,        0.96,     0.94915,     0.94915,     0.94915,     0.94915,     0.94915,     0.94915,     0.94915,     0.94915,     0.94915,     0.94915,     0.94915,     0.94915,     0.94915,     0.94915,     0.94915,     0.94915,     0.94915,     0.94915,     0.94915,     0.94915,\n",
              "            0.94915,     0.94915,     0.94915,     0.94915,     0.94915,     0.94915,     0.94915,     0.94915,     0.94915,     0.94915,     0.94915,     0.94915,     0.94915,     0.94915,     0.94915,     0.94915,     0.94915,     0.94915,     0.94915,     0.94915,     0.94915,     0.94915,     0.94915,\n",
              "            0.94915,     0.94915,     0.94915,     0.94915,     0.94915,     0.94915,     0.94915,     0.94915,     0.94915,     0.94915,     0.94915,     0.94915,     0.94915,     0.94915,     0.94915,     0.94915,     0.94915,     0.94915,     0.94915,     0.94915,     0.94915,     0.94915,     0.94915,\n",
              "            0.94915,     0.94915,     0.94915,     0.94915,     0.94915,     0.94915,     0.94915,     0.94915,     0.94915,     0.94915,     0.94915,     0.94915,     0.94915,     0.94915,     0.94915,     0.94915,     0.94915,     0.94915,     0.94915,     0.94915,     0.94915,     0.94915,     0.94915,\n",
              "            0.94915,     0.94915,     0.94915,     0.94915,     0.94915,     0.94915,     0.94915,     0.94915,     0.94915,     0.94915,     0.94915,     0.94915,     0.94915,     0.94915,     0.94915,     0.94915,     0.94915,     0.94915,     0.94915,     0.94915,     0.94915,     0.94915,     0.94915,\n",
              "            0.94915,     0.94915,     0.94915,     0.94915,     0.94915,     0.94915,     0.94915,     0.94915,     0.94915,     0.94915,     0.94915,     0.94915,     0.94915,     0.94915,     0.94915,     0.94915,     0.94915,     0.94915,     0.94915,     0.94915,     0.94915,     0.94915,     0.94915,\n",
              "            0.94915,     0.94915,     0.94915,     0.94915,     0.94915,     0.94915,     0.94915,     0.94915,     0.94915,     0.94915,     0.94915,     0.94915,     0.94915,     0.94915,     0.94915,     0.94915,     0.94915,     0.94915,     0.94915,     0.94915,     0.94915,     0.94915,     0.94915,\n",
              "            0.94915,     0.94915,     0.94915,     0.94915,     0.94915,     0.94915,     0.94915,     0.94915,     0.94915,     0.94915,     0.94915,     0.94915,     0.94915,     0.94915,     0.94915,     0.94915,     0.94915,     0.94915,     0.94915,     0.94915,     0.94915,     0.94915,     0.94915,\n",
              "            0.94915,     0.94915,     0.94915,     0.94915,     0.94915,     0.94915,     0.94915,     0.94915,     0.94915,     0.94915,     0.94915,     0.94915,     0.94915,     0.94915,     0.94915,     0.94915,     0.94915,     0.94915,     0.94915,     0.94915,     0.94915,     0.94915,     0.94915,\n",
              "            0.94915,     0.94915,     0.94915,     0.94915,     0.94915,     0.94915,     0.94915,     0.94915,     0.94915,     0.94915,     0.94915,     0.94915,     0.94915,     0.94915,     0.94915,     0.94915,     0.94915,     0.94915,     0.94915,     0.94915,     0.94915,     0.94915,     0.94915,\n",
              "            0.94915,     0.94915,     0.94915,     0.94915,     0.94915,     0.94915,     0.94915,     0.94915,     0.94915,     0.94915,     0.94915,     0.94915,     0.94915,     0.94915,     0.94915,     0.94915,     0.94915,     0.94915,     0.94915,     0.94915,     0.94915,     0.94915,     0.94915,\n",
              "            0.94915,     0.94915,     0.94915,     0.94915,     0.94915,     0.94915,     0.94915,     0.94915,     0.94915,     0.94915,     0.94915,     0.94915,     0.94915,     0.94915,     0.94915,     0.94915,     0.94915,     0.94915,     0.94915,     0.94915,     0.94915,     0.94915,     0.94915,\n",
              "            0.94915,     0.94915,     0.94915,     0.94915,     0.94915,     0.94915,     0.94915,     0.94915,     0.94915,     0.94915,     0.94915,     0.94915,     0.94915,     0.94915,     0.94915,     0.94915,     0.94915,     0.94915,     0.94915,     0.94915,     0.94915,     0.94915,     0.94915,\n",
              "            0.94915,     0.94915,     0.94915,     0.94915,     0.94915,     0.94915,     0.94915,     0.94915,     0.94915,     0.94915,     0.94915,     0.94915,     0.94915,     0.94915,     0.94915,     0.94915,     0.94915,     0.94915,     0.94915,     0.94915,     0.94915,     0.94915,     0.94915,\n",
              "            0.94915,     0.94915,     0.94915,     0.94915,     0.94915,     0.94915,     0.94915,     0.94915,     0.94915,     0.94915,     0.94915,     0.94915,     0.94915,     0.94915,     0.94915,     0.94915,     0.94915,     0.94915,     0.94915,     0.94915,     0.94915,     0.93548,     0.93548,\n",
              "            0.93548,     0.93548,     0.93548,     0.93548,     0.93548,     0.93548,     0.93548,     0.93548,     0.93548,     0.93548,     0.93548,     0.93548,     0.93548,     0.93548,     0.93548,     0.93548,     0.93548,     0.93548,     0.93548,     0.91304,     0.91304,     0.91304,     0.91304,\n",
              "            0.91304,     0.91304,     0.91304,     0.91304,     0.91304,     0.91304,     0.91304,     0.91304,     0.91304,     0.91304,     0.91304,     0.91304,     0.91304,     0.91304,     0.91304,     0.91304,     0.91304,     0.91304,     0.91304,     0.91304,     0.91304,     0.91304,     0.91304,\n",
              "            0.91304,     0.91304,     0.91304,     0.91304,     0.91304,     0.91304,     0.91304,     0.91304,     0.91304,     0.91304,     0.91304,     0.91304,     0.91304,     0.91304,     0.91304,     0.91304,     0.91304,     0.91304,     0.91304,     0.91304,     0.91304,     0.91304,     0.91304,\n",
              "            0.91304,     0.91304,     0.91304,     0.90278,     0.90278,     0.90278,     0.90278,     0.90278,     0.90278,     0.90278,     0.90278,     0.90278,     0.90278,     0.90278,     0.90278,     0.90278,     0.90278,     0.90278,     0.90278,     0.90278,     0.90278,     0.90278,     0.90278,\n",
              "            0.90278,     0.89474,     0.89474,     0.89474,     0.89474,     0.89474,     0.89474,     0.89474,     0.89474,     0.89474,     0.89474,     0.89474,     0.89474,     0.89474,     0.89474,     0.89474,     0.89474,     0.89474,     0.89474,     0.89474,     0.89474,     0.89474,     0.89474,\n",
              "            0.89474,     0.89474,     0.89474,     0.89474,     0.89474,     0.89474,     0.89474,     0.89474,     0.89474,     0.89474,      0.8875,      0.8875,      0.8875,      0.8875,      0.8875,      0.8875,      0.8875,      0.8875,      0.8875,      0.8875,      0.8875,      0.8875,      0.8875,\n",
              "             0.8875,      0.8875,      0.8875,      0.8875,      0.8875,      0.8875,      0.8875,      0.8875,      0.8875,      0.8875,      0.8875,      0.8875,      0.8875,      0.8875,      0.8875,      0.8875,      0.8875,      0.8875,      0.8875,     0.86747,     0.86747,     0.86747,     0.86747,\n",
              "            0.86747,     0.86747,     0.86747,     0.86747,     0.86747,     0.86747,     0.86747,     0.85057,     0.85057,     0.85057,     0.85057,     0.85057,     0.85057,     0.85057,     0.85057,     0.85057,     0.85057,     0.85057,     0.85057,     0.85057,     0.85057,     0.85057,     0.85057,\n",
              "            0.85057,     0.85057,     0.85057,     0.85057,     0.85057,      0.8427,      0.8427,      0.8427,      0.8427,      0.8427,      0.8427,      0.8427,      0.8427,      0.8427,      0.8427,      0.8427,     0.83516,     0.83516,     0.83516,     0.83516,     0.83516,     0.83516,     0.83516,\n",
              "            0.83516,     0.83516,     0.83516,      0.8125,      0.8125,      0.8125,      0.8125,      0.8125,      0.8125,      0.8125,      0.8125,      0.8125,      0.8125,      0.8125,      0.8125,      0.8125,      0.8125,      0.8125,      0.8125,      0.8125,      0.8125,      0.8125,      0.8125,\n",
              "             0.8125,     0.80198,     0.80198,     0.80198,     0.80198,     0.80198,     0.80198,     0.80198,     0.80198,     0.80198,     0.80198,     0.80198,     0.80198,     0.80198,     0.80198,     0.80198,     0.80198,     0.80198,     0.80198,     0.80198,     0.80198,     0.80198,     0.80198,\n",
              "            0.80198,     0.80198,     0.80198,     0.80198,     0.80198,     0.80198,     0.80198,     0.80198,     0.80198,     0.80198,     0.79612,     0.79612,     0.79612,     0.79612,     0.79612,     0.79612,     0.79612,     0.79612,     0.79612,     0.79612,     0.79612,      0.7757,      0.7757,\n",
              "             0.7757,      0.7757,      0.7757,      0.7757,      0.7757,      0.7757,      0.7757,      0.7757,      0.7757,     0.74336,     0.74336,     0.74336,     0.74336,     0.74336,     0.74336,     0.74336,     0.74336,     0.74336,     0.74336,     0.69672,     0.69672,     0.69672,     0.69672,\n",
              "            0.69672,     0.69672,     0.69672,     0.69672,     0.69672,     0.69672,     0.69672,     0.68504,     0.68504,     0.68504,     0.68504,     0.68504,     0.68504,     0.68504,     0.68504,     0.68504,     0.68504,     0.68504,     0.68504,     0.68504,     0.68504,     0.68504,     0.68504,\n",
              "            0.68504,     0.68504,     0.68504,     0.68504,     0.68504,     0.67692,     0.67692,     0.67692,     0.67692,     0.67692,     0.67692,     0.67692,     0.67692,     0.67692,     0.67692,     0.67692,     0.60135,     0.60135,     0.60135,     0.60135,     0.60135,     0.60135,     0.60135,\n",
              "            0.60135,     0.60135,     0.60135,         0.6,         0.6,         0.6,         0.6,         0.6,         0.6,         0.6,         0.6,         0.6,         0.6,         0.6,     0.58333,     0.58333,     0.58333,     0.58333,     0.58333,     0.58333,     0.58333,     0.58333,     0.58333,\n",
              "            0.58333,     0.58333,      0.5679,      0.5679,      0.5679,      0.5679,      0.5679,      0.5679,      0.5679,      0.5679,      0.5679,      0.5679,     0.18489,     0.18489,     0.18489,     0.18489,     0.18489,     0.18489,     0.18489,     0.18489,     0.18489,     0.18489,     0.18489,\n",
              "            0.12395,     0.11155,    0.099159,    0.086764,    0.074369,    0.061974,    0.049579,    0.037184,     0.02479,    0.012395,           0]]), 'Recall', 'Precision'], [array([          0,    0.001001,    0.002002,    0.003003,    0.004004,    0.005005,    0.006006,    0.007007,    0.008008,    0.009009,     0.01001,    0.011011,    0.012012,    0.013013,    0.014014,    0.015015,    0.016016,    0.017017,    0.018018,    0.019019,     0.02002,    0.021021,    0.022022,    0.023023,\n",
              "          0.024024,    0.025025,    0.026026,    0.027027,    0.028028,    0.029029,     0.03003,    0.031031,    0.032032,    0.033033,    0.034034,    0.035035,    0.036036,    0.037037,    0.038038,    0.039039,     0.04004,    0.041041,    0.042042,    0.043043,    0.044044,    0.045045,    0.046046,    0.047047,\n",
              "          0.048048,    0.049049,     0.05005,    0.051051,    0.052052,    0.053053,    0.054054,    0.055055,    0.056056,    0.057057,    0.058058,    0.059059,     0.06006,    0.061061,    0.062062,    0.063063,    0.064064,    0.065065,    0.066066,    0.067067,    0.068068,    0.069069,     0.07007,    0.071071,\n",
              "          0.072072,    0.073073,    0.074074,    0.075075,    0.076076,    0.077077,    0.078078,    0.079079,     0.08008,    0.081081,    0.082082,    0.083083,    0.084084,    0.085085,    0.086086,    0.087087,    0.088088,    0.089089,     0.09009,    0.091091,    0.092092,    0.093093,    0.094094,    0.095095,\n",
              "          0.096096,    0.097097,    0.098098,    0.099099,      0.1001,      0.1011,      0.1021,      0.1031,      0.1041,     0.10511,     0.10611,     0.10711,     0.10811,     0.10911,     0.11011,     0.11111,     0.11211,     0.11311,     0.11411,     0.11512,     0.11612,     0.11712,     0.11812,     0.11912,\n",
              "           0.12012,     0.12112,     0.12212,     0.12312,     0.12412,     0.12513,     0.12613,     0.12713,     0.12813,     0.12913,     0.13013,     0.13113,     0.13213,     0.13313,     0.13413,     0.13514,     0.13614,     0.13714,     0.13814,     0.13914,     0.14014,     0.14114,     0.14214,     0.14314,\n",
              "           0.14414,     0.14515,     0.14615,     0.14715,     0.14815,     0.14915,     0.15015,     0.15115,     0.15215,     0.15315,     0.15415,     0.15516,     0.15616,     0.15716,     0.15816,     0.15916,     0.16016,     0.16116,     0.16216,     0.16316,     0.16416,     0.16517,     0.16617,     0.16717,\n",
              "           0.16817,     0.16917,     0.17017,     0.17117,     0.17217,     0.17317,     0.17417,     0.17518,     0.17618,     0.17718,     0.17818,     0.17918,     0.18018,     0.18118,     0.18218,     0.18318,     0.18418,     0.18519,     0.18619,     0.18719,     0.18819,     0.18919,     0.19019,     0.19119,\n",
              "           0.19219,     0.19319,     0.19419,      0.1952,      0.1962,      0.1972,      0.1982,      0.1992,      0.2002,      0.2012,      0.2022,      0.2032,      0.2042,     0.20521,     0.20621,     0.20721,     0.20821,     0.20921,     0.21021,     0.21121,     0.21221,     0.21321,     0.21421,     0.21522,\n",
              "           0.21622,     0.21722,     0.21822,     0.21922,     0.22022,     0.22122,     0.22222,     0.22322,     0.22422,     0.22523,     0.22623,     0.22723,     0.22823,     0.22923,     0.23023,     0.23123,     0.23223,     0.23323,     0.23423,     0.23524,     0.23624,     0.23724,     0.23824,     0.23924,\n",
              "           0.24024,     0.24124,     0.24224,     0.24324,     0.24424,     0.24525,     0.24625,     0.24725,     0.24825,     0.24925,     0.25025,     0.25125,     0.25225,     0.25325,     0.25425,     0.25526,     0.25626,     0.25726,     0.25826,     0.25926,     0.26026,     0.26126,     0.26226,     0.26326,\n",
              "           0.26426,     0.26527,     0.26627,     0.26727,     0.26827,     0.26927,     0.27027,     0.27127,     0.27227,     0.27327,     0.27427,     0.27528,     0.27628,     0.27728,     0.27828,     0.27928,     0.28028,     0.28128,     0.28228,     0.28328,     0.28428,     0.28529,     0.28629,     0.28729,\n",
              "           0.28829,     0.28929,     0.29029,     0.29129,     0.29229,     0.29329,     0.29429,      0.2953,      0.2963,      0.2973,      0.2983,      0.2993,      0.3003,      0.3013,      0.3023,      0.3033,      0.3043,     0.30531,     0.30631,     0.30731,     0.30831,     0.30931,     0.31031,     0.31131,\n",
              "           0.31231,     0.31331,     0.31431,     0.31532,     0.31632,     0.31732,     0.31832,     0.31932,     0.32032,     0.32132,     0.32232,     0.32332,     0.32432,     0.32533,     0.32633,     0.32733,     0.32833,     0.32933,     0.33033,     0.33133,     0.33233,     0.33333,     0.33433,     0.33534,\n",
              "           0.33634,     0.33734,     0.33834,     0.33934,     0.34034,     0.34134,     0.34234,     0.34334,     0.34434,     0.34535,     0.34635,     0.34735,     0.34835,     0.34935,     0.35035,     0.35135,     0.35235,     0.35335,     0.35435,     0.35536,     0.35636,     0.35736,     0.35836,     0.35936,\n",
              "           0.36036,     0.36136,     0.36236,     0.36336,     0.36436,     0.36537,     0.36637,     0.36737,     0.36837,     0.36937,     0.37037,     0.37137,     0.37237,     0.37337,     0.37437,     0.37538,     0.37638,     0.37738,     0.37838,     0.37938,     0.38038,     0.38138,     0.38238,     0.38338,\n",
              "           0.38438,     0.38539,     0.38639,     0.38739,     0.38839,     0.38939,     0.39039,     0.39139,     0.39239,     0.39339,     0.39439,      0.3954,      0.3964,      0.3974,      0.3984,      0.3994,      0.4004,      0.4014,      0.4024,      0.4034,      0.4044,     0.40541,     0.40641,     0.40741,\n",
              "           0.40841,     0.40941,     0.41041,     0.41141,     0.41241,     0.41341,     0.41441,     0.41542,     0.41642,     0.41742,     0.41842,     0.41942,     0.42042,     0.42142,     0.42242,     0.42342,     0.42442,     0.42543,     0.42643,     0.42743,     0.42843,     0.42943,     0.43043,     0.43143,\n",
              "           0.43243,     0.43343,     0.43443,     0.43544,     0.43644,     0.43744,     0.43844,     0.43944,     0.44044,     0.44144,     0.44244,     0.44344,     0.44444,     0.44545,     0.44645,     0.44745,     0.44845,     0.44945,     0.45045,     0.45145,     0.45245,     0.45345,     0.45445,     0.45546,\n",
              "           0.45646,     0.45746,     0.45846,     0.45946,     0.46046,     0.46146,     0.46246,     0.46346,     0.46446,     0.46547,     0.46647,     0.46747,     0.46847,     0.46947,     0.47047,     0.47147,     0.47247,     0.47347,     0.47447,     0.47548,     0.47648,     0.47748,     0.47848,     0.47948,\n",
              "           0.48048,     0.48148,     0.48248,     0.48348,     0.48448,     0.48549,     0.48649,     0.48749,     0.48849,     0.48949,     0.49049,     0.49149,     0.49249,     0.49349,     0.49449,      0.4955,      0.4965,      0.4975,      0.4985,      0.4995,      0.5005,      0.5015,      0.5025,      0.5035,\n",
              "            0.5045,     0.50551,     0.50651,     0.50751,     0.50851,     0.50951,     0.51051,     0.51151,     0.51251,     0.51351,     0.51451,     0.51552,     0.51652,     0.51752,     0.51852,     0.51952,     0.52052,     0.52152,     0.52252,     0.52352,     0.52452,     0.52553,     0.52653,     0.52753,\n",
              "           0.52853,     0.52953,     0.53053,     0.53153,     0.53253,     0.53353,     0.53453,     0.53554,     0.53654,     0.53754,     0.53854,     0.53954,     0.54054,     0.54154,     0.54254,     0.54354,     0.54454,     0.54555,     0.54655,     0.54755,     0.54855,     0.54955,     0.55055,     0.55155,\n",
              "           0.55255,     0.55355,     0.55455,     0.55556,     0.55656,     0.55756,     0.55856,     0.55956,     0.56056,     0.56156,     0.56256,     0.56356,     0.56456,     0.56557,     0.56657,     0.56757,     0.56857,     0.56957,     0.57057,     0.57157,     0.57257,     0.57357,     0.57457,     0.57558,\n",
              "           0.57658,     0.57758,     0.57858,     0.57958,     0.58058,     0.58158,     0.58258,     0.58358,     0.58458,     0.58559,     0.58659,     0.58759,     0.58859,     0.58959,     0.59059,     0.59159,     0.59259,     0.59359,     0.59459,      0.5956,      0.5966,      0.5976,      0.5986,      0.5996,\n",
              "            0.6006,      0.6016,      0.6026,      0.6036,      0.6046,     0.60561,     0.60661,     0.60761,     0.60861,     0.60961,     0.61061,     0.61161,     0.61261,     0.61361,     0.61461,     0.61562,     0.61662,     0.61762,     0.61862,     0.61962,     0.62062,     0.62162,     0.62262,     0.62362,\n",
              "           0.62462,     0.62563,     0.62663,     0.62763,     0.62863,     0.62963,     0.63063,     0.63163,     0.63263,     0.63363,     0.63463,     0.63564,     0.63664,     0.63764,     0.63864,     0.63964,     0.64064,     0.64164,     0.64264,     0.64364,     0.64464,     0.64565,     0.64665,     0.64765,\n",
              "           0.64865,     0.64965,     0.65065,     0.65165,     0.65265,     0.65365,     0.65465,     0.65566,     0.65666,     0.65766,     0.65866,     0.65966,     0.66066,     0.66166,     0.66266,     0.66366,     0.66466,     0.66567,     0.66667,     0.66767,     0.66867,     0.66967,     0.67067,     0.67167,\n",
              "           0.67267,     0.67367,     0.67467,     0.67568,     0.67668,     0.67768,     0.67868,     0.67968,     0.68068,     0.68168,     0.68268,     0.68368,     0.68468,     0.68569,     0.68669,     0.68769,     0.68869,     0.68969,     0.69069,     0.69169,     0.69269,     0.69369,     0.69469,      0.6957,\n",
              "            0.6967,      0.6977,      0.6987,      0.6997,      0.7007,      0.7017,      0.7027,      0.7037,      0.7047,     0.70571,     0.70671,     0.70771,     0.70871,     0.70971,     0.71071,     0.71171,     0.71271,     0.71371,     0.71471,     0.71572,     0.71672,     0.71772,     0.71872,     0.71972,\n",
              "           0.72072,     0.72172,     0.72272,     0.72372,     0.72472,     0.72573,     0.72673,     0.72773,     0.72873,     0.72973,     0.73073,     0.73173,     0.73273,     0.73373,     0.73473,     0.73574,     0.73674,     0.73774,     0.73874,     0.73974,     0.74074,     0.74174,     0.74274,     0.74374,\n",
              "           0.74474,     0.74575,     0.74675,     0.74775,     0.74875,     0.74975,     0.75075,     0.75175,     0.75275,     0.75375,     0.75475,     0.75576,     0.75676,     0.75776,     0.75876,     0.75976,     0.76076,     0.76176,     0.76276,     0.76376,     0.76476,     0.76577,     0.76677,     0.76777,\n",
              "           0.76877,     0.76977,     0.77077,     0.77177,     0.77277,     0.77377,     0.77477,     0.77578,     0.77678,     0.77778,     0.77878,     0.77978,     0.78078,     0.78178,     0.78278,     0.78378,     0.78478,     0.78579,     0.78679,     0.78779,     0.78879,     0.78979,     0.79079,     0.79179,\n",
              "           0.79279,     0.79379,     0.79479,      0.7958,      0.7968,      0.7978,      0.7988,      0.7998,      0.8008,      0.8018,      0.8028,      0.8038,      0.8048,     0.80581,     0.80681,     0.80781,     0.80881,     0.80981,     0.81081,     0.81181,     0.81281,     0.81381,     0.81481,     0.81582,\n",
              "           0.81682,     0.81782,     0.81882,     0.81982,     0.82082,     0.82182,     0.82282,     0.82382,     0.82482,     0.82583,     0.82683,     0.82783,     0.82883,     0.82983,     0.83083,     0.83183,     0.83283,     0.83383,     0.83483,     0.83584,     0.83684,     0.83784,     0.83884,     0.83984,\n",
              "           0.84084,     0.84184,     0.84284,     0.84384,     0.84484,     0.84585,     0.84685,     0.84785,     0.84885,     0.84985,     0.85085,     0.85185,     0.85285,     0.85385,     0.85485,     0.85586,     0.85686,     0.85786,     0.85886,     0.85986,     0.86086,     0.86186,     0.86286,     0.86386,\n",
              "           0.86486,     0.86587,     0.86687,     0.86787,     0.86887,     0.86987,     0.87087,     0.87187,     0.87287,     0.87387,     0.87487,     0.87588,     0.87688,     0.87788,     0.87888,     0.87988,     0.88088,     0.88188,     0.88288,     0.88388,     0.88488,     0.88589,     0.88689,     0.88789,\n",
              "           0.88889,     0.88989,     0.89089,     0.89189,     0.89289,     0.89389,     0.89489,      0.8959,      0.8969,      0.8979,      0.8989,      0.8999,      0.9009,      0.9019,      0.9029,      0.9039,      0.9049,     0.90591,     0.90691,     0.90791,     0.90891,     0.90991,     0.91091,     0.91191,\n",
              "           0.91291,     0.91391,     0.91491,     0.91592,     0.91692,     0.91792,     0.91892,     0.91992,     0.92092,     0.92192,     0.92292,     0.92392,     0.92492,     0.92593,     0.92693,     0.92793,     0.92893,     0.92993,     0.93093,     0.93193,     0.93293,     0.93393,     0.93493,     0.93594,\n",
              "           0.93694,     0.93794,     0.93894,     0.93994,     0.94094,     0.94194,     0.94294,     0.94394,     0.94494,     0.94595,     0.94695,     0.94795,     0.94895,     0.94995,     0.95095,     0.95195,     0.95295,     0.95395,     0.95495,     0.95596,     0.95696,     0.95796,     0.95896,     0.95996,\n",
              "           0.96096,     0.96196,     0.96296,     0.96396,     0.96496,     0.96597,     0.96697,     0.96797,     0.96897,     0.96997,     0.97097,     0.97197,     0.97297,     0.97397,     0.97497,     0.97598,     0.97698,     0.97798,     0.97898,     0.97998,     0.98098,     0.98198,     0.98298,     0.98398,\n",
              "           0.98498,     0.98599,     0.98699,     0.98799,     0.98899,     0.98999,     0.99099,     0.99199,     0.99299,     0.99399,     0.99499,       0.996,       0.997,       0.998,       0.999,           1]), array([[     0.2325,      0.2325,     0.31829,     0.36723,     0.40054,     0.42861,     0.44992,     0.46691,     0.48559,     0.49759,     0.51254,     0.52478,      0.5362,     0.54449,     0.55445,     0.56098,     0.56821,     0.57875,     0.58451,     0.59304,     0.59663,     0.60202,     0.60326,\n",
              "            0.60724,     0.61418,     0.61741,     0.61937,     0.62556,     0.62991,     0.63481,     0.63603,     0.63867,     0.64408,     0.64679,     0.65128,     0.65365,     0.65526,     0.65783,      0.6628,     0.66423,     0.66757,     0.66863,     0.67332,     0.67665,     0.67902,     0.68037,\n",
              "            0.68168,     0.68281,     0.68393,     0.68509,     0.68625,     0.68855,     0.69203,     0.69487,     0.69899,     0.70245,     0.70349,     0.70453,     0.70617,     0.70789,     0.70859,     0.70929,     0.70999,     0.71174,     0.71375,     0.71472,     0.71568,     0.71733,     0.71757,\n",
              "            0.71386,     0.71466,     0.71547,     0.71628,     0.71728,     0.71836,     0.71961,     0.72309,     0.72634,     0.72701,     0.72557,     0.72412,      0.7236,      0.7267,     0.72836,     0.72935,     0.73013,     0.73092,      0.7317,     0.73318,     0.73466,     0.73666,     0.73496,\n",
              "            0.73326,     0.73279,      0.7333,      0.7338,      0.7343,      0.7348,      0.7353,     0.73357,     0.73059,     0.73296,      0.7343,     0.73544,     0.73777,     0.73965,     0.73984,     0.74004,     0.74023,     0.74043,     0.74062,     0.74082,     0.74101,      0.7412,      0.7414,\n",
              "            0.74159,     0.74178,     0.74198,     0.74217,     0.74236,     0.74256,     0.74519,     0.74835,     0.74933,     0.74982,      0.7503,     0.75079,     0.75127,     0.75176,      0.7522,     0.75246,     0.75272,     0.75298,     0.75325,     0.75351,     0.75377,     0.75403,     0.75429,\n",
              "            0.75456,     0.75482,     0.75508,     0.75534,     0.75779,      0.7617,      0.7629,     0.76395,     0.76499,     0.76573,     0.76638,     0.76704,     0.76769,     0.76834,     0.76896,     0.76956,     0.77016,     0.77076,     0.77136,     0.77204,     0.77419,     0.77567,     0.77639,\n",
              "            0.77711,     0.77783,     0.77855,     0.78294,     0.78565,     0.78512,     0.78459,     0.78406,     0.78352,     0.78299,     0.78246,     0.78193,      0.7814,     0.78086,     0.78033,     0.78148,     0.78285,     0.78401,      0.7847,     0.78539,     0.78609,     0.78678,      0.7871,\n",
              "            0.78594,     0.78478,     0.78362,     0.78246,     0.78158,     0.78104,     0.78051,     0.77997,     0.77944,      0.7789,     0.77836,     0.77783,     0.77729,     0.77675,      0.7763,     0.77691,     0.77752,     0.77813,     0.77874,     0.77935,     0.78042,      0.7831,     0.78604,\n",
              "            0.78627,     0.78512,     0.78396,      0.7828,     0.78164,     0.78183,     0.78239,     0.78294,      0.7835,     0.78405,      0.7846,     0.78581,     0.78909,      0.7907,     0.79231,     0.79722,     0.79833,     0.79944,     0.80141,     0.80391,     0.80447,     0.80503,     0.80558,\n",
              "            0.80614,     0.80669,     0.80725,     0.80779,     0.80825,     0.80872,     0.80918,     0.80964,     0.81011,     0.81057,     0.81103,      0.8115,     0.81108,     0.81042,     0.80977,     0.80911,     0.80845,      0.8078,     0.80714,     0.80648,     0.80583,     0.80612,     0.80642,\n",
              "            0.80671,       0.807,      0.8073,     0.80759,     0.80788,     0.80818,     0.80847,     0.80876,     0.80905,     0.80934,     0.80964,     0.81454,     0.81591,     0.81728,     0.81884,      0.8205,     0.82198,     0.82287,     0.82375,     0.82463,     0.82551,      0.8255,     0.82486,\n",
              "            0.82423,      0.8236,     0.82297,     0.82233,      0.8217,     0.82106,     0.82043,     0.82012,     0.82049,     0.82086,     0.82122,     0.82159,     0.82196,     0.82233,     0.82269,     0.82306,     0.82343,     0.82379,     0.82415,     0.82439,     0.82463,     0.82487,     0.82511,\n",
              "            0.82535,     0.82559,     0.82583,     0.82607,     0.82631,     0.82655,     0.82679,     0.82703,     0.82727,     0.82751,     0.82775,     0.82799,     0.82823,     0.82853,     0.82884,     0.82914,     0.82945,     0.82976,     0.83007,     0.83038,     0.83069,     0.83099,      0.8313,\n",
              "            0.83161,     0.83191,     0.83222,     0.83226,     0.83052,     0.82878,     0.82703,     0.83067,     0.82956,     0.82832,     0.82709,     0.82585,     0.82211,     0.81322,     0.81347,     0.81456,     0.81565,     0.81674,     0.81703,      0.8173,     0.81758,     0.81786,     0.81813,\n",
              "            0.81841,     0.81868,     0.81896,     0.81923,     0.81951,     0.81978,     0.82006,     0.82033,     0.82061,     0.82088,     0.82095,     0.82067,     0.82039,     0.82012,     0.81984,     0.81956,     0.81929,     0.81901,     0.81873,     0.81845,     0.81817,      0.8179,     0.81762,\n",
              "            0.81734,     0.81706,     0.81678,     0.81651,     0.81623,     0.81595,     0.81567,     0.81539,     0.81511,     0.81483,     0.81463,     0.81444,     0.81425,     0.81406,     0.81387,     0.81367,     0.81348,     0.81329,      0.8131,      0.8129,     0.81271,     0.81252,     0.81232,\n",
              "            0.81213,     0.81194,     0.81175,     0.81155,     0.81136,     0.81117,     0.81097,     0.81078,     0.81059,      0.8104,      0.8102,     0.81001,     0.80982,     0.80962,     0.80943,     0.80924,     0.80904,     0.80885,     0.80866,     0.81292,     0.81328,     0.81363,     0.81398,\n",
              "            0.81433,     0.81469,     0.81504,     0.81539,     0.81574,     0.81609,     0.81644,     0.81679,     0.81714,     0.82159,     0.82117,     0.82076,     0.82034,     0.81992,     0.81951,     0.81909,     0.81868,     0.81826,     0.81784,     0.81742,     0.81701,     0.81659,     0.81617,\n",
              "            0.81575,     0.81534,     0.81686,     0.81914,     0.81458,     0.81392,     0.81484,     0.81576,     0.81668,      0.8176,     0.81698,     0.81621,     0.81544,     0.81468,     0.81391,     0.81314,     0.81236,     0.81159,     0.81096,     0.81056,     0.81016,     0.80976,     0.80936,\n",
              "            0.80896,     0.80856,     0.80816,     0.80776,     0.80736,     0.80696,     0.80656,     0.80616,     0.80576,     0.80536,     0.80495,     0.80455,       0.805,     0.80566,     0.80632,     0.80699,     0.80765,     0.80831,     0.80896,      0.8135,     0.81129,     0.80899,     0.80684,\n",
              "            0.80728,     0.80771,     0.80814,     0.80857,       0.809,     0.80943,     0.80986,     0.81029,     0.81071,     0.81114,     0.81146,     0.81156,     0.81165,     0.81175,     0.81184,     0.81194,     0.81204,     0.81213,     0.81223,     0.81233,     0.81242,     0.81252,     0.81261,\n",
              "            0.81271,      0.8128,      0.8129,       0.813,     0.81309,     0.81319,     0.81328,     0.81338,     0.81348,     0.81357,     0.81367,     0.81376,     0.81386,     0.81395,     0.81405,     0.81414,     0.81424,     0.81434,     0.81443,     0.81453,     0.81462,     0.81472,     0.81481,\n",
              "            0.81491,       0.815,      0.8151,     0.81519,     0.81529,     0.81538,     0.81548,     0.81557,     0.81567,     0.81576,     0.81586,     0.81595,     0.81605,      0.8086,     0.80742,     0.80624,     0.80506,     0.80387,     0.80269,     0.80177,     0.80098,     0.80018,     0.79939,\n",
              "            0.79859,     0.79779,     0.79699,     0.79619,     0.79539,     0.79584,     0.79641,     0.79697,     0.79754,      0.7981,     0.79867,     0.79923,     0.79979,     0.79986,     0.79964,     0.79942,      0.7992,     0.79898,     0.79876,     0.79854,     0.79832,      0.7981,     0.79788,\n",
              "            0.79766,     0.79744,     0.79722,       0.797,     0.79678,     0.79656,     0.79634,     0.79612,      0.7959,     0.79568,     0.79546,     0.79524,     0.79502,      0.7948,     0.79458,     0.79435,     0.79413,     0.79391,     0.79369,     0.79347,     0.79325,     0.79303,     0.79237,\n",
              "            0.79115,     0.78993,      0.7887,     0.78747,     0.78624,     0.77887,     0.77962,     0.78036,      0.7811,     0.78183,     0.78257,     0.78269,     0.78081,     0.77892,     0.77703,     0.77537,      0.7742,     0.77302,     0.77184,     0.77067,     0.76949,      0.7683,      0.7707,\n",
              "            0.77295,     0.77154,     0.77014,     0.76873,     0.76731,     0.76589,     0.76462,     0.76342,     0.76221,       0.761,     0.75979,     0.75857,     0.75513,     0.74857,     0.74454,     0.74141,      0.7396,     0.73779,     0.73597,      0.7342,     0.73558,     0.73695,     0.73831,\n",
              "            0.73983,     0.74146,     0.74307,     0.74136,     0.73804,     0.73351,     0.72855,     0.73106,     0.72765,     0.72422,     0.72206,     0.72014,     0.71822,     0.71629,     0.70465,      0.7002,     0.69572,     0.69122,     0.68583,     0.67986,     0.67524,     0.67097,      0.6691,\n",
              "            0.66723,     0.66535,     0.66347,     0.66187,     0.66111,     0.66036,      0.6596,     0.65884,     0.65808,     0.65731,     0.65655,     0.65579,     0.65502,     0.65426,     0.65349,     0.65265,     0.65073,      0.6488,     0.64687,     0.64493,     0.64244,     0.63756,     0.63364,\n",
              "            0.63293,     0.63222,     0.63152,     0.63081,      0.6301,     0.62939,     0.62868,     0.62797,     0.62726,     0.62655,     0.62584,     0.62513,     0.62441,     0.62246,     0.61959,      0.6167,     0.61395,     0.61192,     0.60988,     0.60783,     0.60578,     0.60378,     0.60191,\n",
              "            0.60002,     0.59814,     0.59625,     0.59435,     0.58938,     0.58411,     0.57146,     0.56713,     0.55219,     0.55102,     0.54985,     0.54868,     0.54751,     0.54634,     0.54516,     0.54398,      0.5428,     0.54162,     0.51609,      0.5122,     0.50829,     0.50569,     0.50333,\n",
              "            0.50096,     0.49858,      0.4962,     0.49684,     0.49757,     0.49829,     0.49901,     0.49972,     0.49942,     0.49846,     0.49749,     0.49653,     0.49556,     0.49459,     0.49363,     0.49266,     0.49169,     0.49071,     0.48974,     0.48877,     0.48766,     0.48638,     0.48509,\n",
              "             0.4838,      0.4825,     0.48121,     0.47991,     0.47861,     0.47731,     0.47569,     0.47214,     0.46857,     0.46498,     0.44539,     0.41925,     0.41245,     0.41145,     0.41045,     0.40945,     0.40845,     0.40745,     0.40645,     0.40544,     0.40444,     0.40343,     0.40242,\n",
              "            0.40141,      0.4004,     0.40025,     0.40067,     0.40108,     0.40149,     0.40189,     0.40229,     0.40269,     0.40309,     0.40049,     0.39124,     0.38851,     0.38695,     0.38539,     0.38383,     0.38226,     0.38069,     0.37912,     0.37754,     0.37595,     0.37417,     0.37238,\n",
              "            0.37059,      0.3688,       0.367,      0.3652,      0.3634,     0.36016,     0.35287,      0.3469,     0.34395,     0.34099,     0.33801,     0.33503,     0.33007,     0.32251,      0.3176,     0.31556,     0.31352,     0.31147,     0.30941,     0.30736,     0.30529,     0.30271,     0.29751,\n",
              "            0.29228,      0.2872,     0.28267,     0.27811,     0.27353,     0.26606,     0.25791,     0.24968,     0.24138,      0.2304,     0.21645,     0.20418,      0.1972,     0.19038,     0.18816,     0.18595,     0.18372,      0.1815,     0.17926,     0.17703,     0.17478,     0.17184,     0.16667,\n",
              "            0.16147,     0.15625,      0.1523,     0.14861,      0.1449,     0.14118,     0.13745,     0.12834,     0.11884,    0.096104,    0.092182,    0.088247,    0.084299,    0.080583,    0.078684,    0.076782,    0.074878,     0.07297,     0.07106,    0.069147,    0.067232,    0.065313,    0.063391,\n",
              "           0.061465,    0.061281,    0.061342,    0.061401,    0.061456,     0.06151,    0.061561,    0.061609,    0.061656,    0.061701,    0.061744,    0.061785,    0.061825,    0.061795,    0.061477,    0.061159,    0.060841,    0.060524,    0.060206,    0.059887,    0.059569,    0.059251,    0.058932,\n",
              "           0.058614,    0.058295,    0.057976,    0.057658,    0.057339,     0.05702,      0.0567,    0.056381,    0.056062,    0.055742,    0.055423,    0.055103,    0.054783,    0.054463,    0.054143,    0.053823,    0.053503,    0.053183,    0.052862,    0.052542,    0.052221,      0.0519,    0.051579,\n",
              "           0.051258,    0.050937,    0.050616,    0.050295,    0.049973,    0.049652,     0.04933,    0.049009,    0.048687,    0.048365,    0.048043,    0.047721,    0.047399,    0.047076,    0.046754,    0.046431,    0.046109,    0.045786,    0.045463,     0.04514,    0.044817,    0.044494,     0.04417,\n",
              "           0.043847,    0.043523,      0.0432,    0.042876,    0.042552,    0.042228,    0.041904,    0.041356,    0.040194,     0.03903,    0.037864,    0.036697,    0.035529,    0.034359,    0.033188,    0.032016,    0.030842,    0.029667,     0.02849,    0.027312,    0.026133,    0.024952,    0.023769,\n",
              "           0.022586,    0.021401,           0,           0,           0,           0,           0,           0,           0,           0,           0,           0,           0,           0,           0,           0,           0,           0,           0,           0,           0,           0,           0,\n",
              "                  0,           0,           0,           0,           0,           0,           0,           0,           0,           0,           0]]), 'Confidence', 'F1'], [array([          0,    0.001001,    0.002002,    0.003003,    0.004004,    0.005005,    0.006006,    0.007007,    0.008008,    0.009009,     0.01001,    0.011011,    0.012012,    0.013013,    0.014014,    0.015015,    0.016016,    0.017017,    0.018018,    0.019019,     0.02002,    0.021021,    0.022022,    0.023023,\n",
              "          0.024024,    0.025025,    0.026026,    0.027027,    0.028028,    0.029029,     0.03003,    0.031031,    0.032032,    0.033033,    0.034034,    0.035035,    0.036036,    0.037037,    0.038038,    0.039039,     0.04004,    0.041041,    0.042042,    0.043043,    0.044044,    0.045045,    0.046046,    0.047047,\n",
              "          0.048048,    0.049049,     0.05005,    0.051051,    0.052052,    0.053053,    0.054054,    0.055055,    0.056056,    0.057057,    0.058058,    0.059059,     0.06006,    0.061061,    0.062062,    0.063063,    0.064064,    0.065065,    0.066066,    0.067067,    0.068068,    0.069069,     0.07007,    0.071071,\n",
              "          0.072072,    0.073073,    0.074074,    0.075075,    0.076076,    0.077077,    0.078078,    0.079079,     0.08008,    0.081081,    0.082082,    0.083083,    0.084084,    0.085085,    0.086086,    0.087087,    0.088088,    0.089089,     0.09009,    0.091091,    0.092092,    0.093093,    0.094094,    0.095095,\n",
              "          0.096096,    0.097097,    0.098098,    0.099099,      0.1001,      0.1011,      0.1021,      0.1031,      0.1041,     0.10511,     0.10611,     0.10711,     0.10811,     0.10911,     0.11011,     0.11111,     0.11211,     0.11311,     0.11411,     0.11512,     0.11612,     0.11712,     0.11812,     0.11912,\n",
              "           0.12012,     0.12112,     0.12212,     0.12312,     0.12412,     0.12513,     0.12613,     0.12713,     0.12813,     0.12913,     0.13013,     0.13113,     0.13213,     0.13313,     0.13413,     0.13514,     0.13614,     0.13714,     0.13814,     0.13914,     0.14014,     0.14114,     0.14214,     0.14314,\n",
              "           0.14414,     0.14515,     0.14615,     0.14715,     0.14815,     0.14915,     0.15015,     0.15115,     0.15215,     0.15315,     0.15415,     0.15516,     0.15616,     0.15716,     0.15816,     0.15916,     0.16016,     0.16116,     0.16216,     0.16316,     0.16416,     0.16517,     0.16617,     0.16717,\n",
              "           0.16817,     0.16917,     0.17017,     0.17117,     0.17217,     0.17317,     0.17417,     0.17518,     0.17618,     0.17718,     0.17818,     0.17918,     0.18018,     0.18118,     0.18218,     0.18318,     0.18418,     0.18519,     0.18619,     0.18719,     0.18819,     0.18919,     0.19019,     0.19119,\n",
              "           0.19219,     0.19319,     0.19419,      0.1952,      0.1962,      0.1972,      0.1982,      0.1992,      0.2002,      0.2012,      0.2022,      0.2032,      0.2042,     0.20521,     0.20621,     0.20721,     0.20821,     0.20921,     0.21021,     0.21121,     0.21221,     0.21321,     0.21421,     0.21522,\n",
              "           0.21622,     0.21722,     0.21822,     0.21922,     0.22022,     0.22122,     0.22222,     0.22322,     0.22422,     0.22523,     0.22623,     0.22723,     0.22823,     0.22923,     0.23023,     0.23123,     0.23223,     0.23323,     0.23423,     0.23524,     0.23624,     0.23724,     0.23824,     0.23924,\n",
              "           0.24024,     0.24124,     0.24224,     0.24324,     0.24424,     0.24525,     0.24625,     0.24725,     0.24825,     0.24925,     0.25025,     0.25125,     0.25225,     0.25325,     0.25425,     0.25526,     0.25626,     0.25726,     0.25826,     0.25926,     0.26026,     0.26126,     0.26226,     0.26326,\n",
              "           0.26426,     0.26527,     0.26627,     0.26727,     0.26827,     0.26927,     0.27027,     0.27127,     0.27227,     0.27327,     0.27427,     0.27528,     0.27628,     0.27728,     0.27828,     0.27928,     0.28028,     0.28128,     0.28228,     0.28328,     0.28428,     0.28529,     0.28629,     0.28729,\n",
              "           0.28829,     0.28929,     0.29029,     0.29129,     0.29229,     0.29329,     0.29429,      0.2953,      0.2963,      0.2973,      0.2983,      0.2993,      0.3003,      0.3013,      0.3023,      0.3033,      0.3043,     0.30531,     0.30631,     0.30731,     0.30831,     0.30931,     0.31031,     0.31131,\n",
              "           0.31231,     0.31331,     0.31431,     0.31532,     0.31632,     0.31732,     0.31832,     0.31932,     0.32032,     0.32132,     0.32232,     0.32332,     0.32432,     0.32533,     0.32633,     0.32733,     0.32833,     0.32933,     0.33033,     0.33133,     0.33233,     0.33333,     0.33433,     0.33534,\n",
              "           0.33634,     0.33734,     0.33834,     0.33934,     0.34034,     0.34134,     0.34234,     0.34334,     0.34434,     0.34535,     0.34635,     0.34735,     0.34835,     0.34935,     0.35035,     0.35135,     0.35235,     0.35335,     0.35435,     0.35536,     0.35636,     0.35736,     0.35836,     0.35936,\n",
              "           0.36036,     0.36136,     0.36236,     0.36336,     0.36436,     0.36537,     0.36637,     0.36737,     0.36837,     0.36937,     0.37037,     0.37137,     0.37237,     0.37337,     0.37437,     0.37538,     0.37638,     0.37738,     0.37838,     0.37938,     0.38038,     0.38138,     0.38238,     0.38338,\n",
              "           0.38438,     0.38539,     0.38639,     0.38739,     0.38839,     0.38939,     0.39039,     0.39139,     0.39239,     0.39339,     0.39439,      0.3954,      0.3964,      0.3974,      0.3984,      0.3994,      0.4004,      0.4014,      0.4024,      0.4034,      0.4044,     0.40541,     0.40641,     0.40741,\n",
              "           0.40841,     0.40941,     0.41041,     0.41141,     0.41241,     0.41341,     0.41441,     0.41542,     0.41642,     0.41742,     0.41842,     0.41942,     0.42042,     0.42142,     0.42242,     0.42342,     0.42442,     0.42543,     0.42643,     0.42743,     0.42843,     0.42943,     0.43043,     0.43143,\n",
              "           0.43243,     0.43343,     0.43443,     0.43544,     0.43644,     0.43744,     0.43844,     0.43944,     0.44044,     0.44144,     0.44244,     0.44344,     0.44444,     0.44545,     0.44645,     0.44745,     0.44845,     0.44945,     0.45045,     0.45145,     0.45245,     0.45345,     0.45445,     0.45546,\n",
              "           0.45646,     0.45746,     0.45846,     0.45946,     0.46046,     0.46146,     0.46246,     0.46346,     0.46446,     0.46547,     0.46647,     0.46747,     0.46847,     0.46947,     0.47047,     0.47147,     0.47247,     0.47347,     0.47447,     0.47548,     0.47648,     0.47748,     0.47848,     0.47948,\n",
              "           0.48048,     0.48148,     0.48248,     0.48348,     0.48448,     0.48549,     0.48649,     0.48749,     0.48849,     0.48949,     0.49049,     0.49149,     0.49249,     0.49349,     0.49449,      0.4955,      0.4965,      0.4975,      0.4985,      0.4995,      0.5005,      0.5015,      0.5025,      0.5035,\n",
              "            0.5045,     0.50551,     0.50651,     0.50751,     0.50851,     0.50951,     0.51051,     0.51151,     0.51251,     0.51351,     0.51451,     0.51552,     0.51652,     0.51752,     0.51852,     0.51952,     0.52052,     0.52152,     0.52252,     0.52352,     0.52452,     0.52553,     0.52653,     0.52753,\n",
              "           0.52853,     0.52953,     0.53053,     0.53153,     0.53253,     0.53353,     0.53453,     0.53554,     0.53654,     0.53754,     0.53854,     0.53954,     0.54054,     0.54154,     0.54254,     0.54354,     0.54454,     0.54555,     0.54655,     0.54755,     0.54855,     0.54955,     0.55055,     0.55155,\n",
              "           0.55255,     0.55355,     0.55455,     0.55556,     0.55656,     0.55756,     0.55856,     0.55956,     0.56056,     0.56156,     0.56256,     0.56356,     0.56456,     0.56557,     0.56657,     0.56757,     0.56857,     0.56957,     0.57057,     0.57157,     0.57257,     0.57357,     0.57457,     0.57558,\n",
              "           0.57658,     0.57758,     0.57858,     0.57958,     0.58058,     0.58158,     0.58258,     0.58358,     0.58458,     0.58559,     0.58659,     0.58759,     0.58859,     0.58959,     0.59059,     0.59159,     0.59259,     0.59359,     0.59459,      0.5956,      0.5966,      0.5976,      0.5986,      0.5996,\n",
              "            0.6006,      0.6016,      0.6026,      0.6036,      0.6046,     0.60561,     0.60661,     0.60761,     0.60861,     0.60961,     0.61061,     0.61161,     0.61261,     0.61361,     0.61461,     0.61562,     0.61662,     0.61762,     0.61862,     0.61962,     0.62062,     0.62162,     0.62262,     0.62362,\n",
              "           0.62462,     0.62563,     0.62663,     0.62763,     0.62863,     0.62963,     0.63063,     0.63163,     0.63263,     0.63363,     0.63463,     0.63564,     0.63664,     0.63764,     0.63864,     0.63964,     0.64064,     0.64164,     0.64264,     0.64364,     0.64464,     0.64565,     0.64665,     0.64765,\n",
              "           0.64865,     0.64965,     0.65065,     0.65165,     0.65265,     0.65365,     0.65465,     0.65566,     0.65666,     0.65766,     0.65866,     0.65966,     0.66066,     0.66166,     0.66266,     0.66366,     0.66466,     0.66567,     0.66667,     0.66767,     0.66867,     0.66967,     0.67067,     0.67167,\n",
              "           0.67267,     0.67367,     0.67467,     0.67568,     0.67668,     0.67768,     0.67868,     0.67968,     0.68068,     0.68168,     0.68268,     0.68368,     0.68468,     0.68569,     0.68669,     0.68769,     0.68869,     0.68969,     0.69069,     0.69169,     0.69269,     0.69369,     0.69469,      0.6957,\n",
              "            0.6967,      0.6977,      0.6987,      0.6997,      0.7007,      0.7017,      0.7027,      0.7037,      0.7047,     0.70571,     0.70671,     0.70771,     0.70871,     0.70971,     0.71071,     0.71171,     0.71271,     0.71371,     0.71471,     0.71572,     0.71672,     0.71772,     0.71872,     0.71972,\n",
              "           0.72072,     0.72172,     0.72272,     0.72372,     0.72472,     0.72573,     0.72673,     0.72773,     0.72873,     0.72973,     0.73073,     0.73173,     0.73273,     0.73373,     0.73473,     0.73574,     0.73674,     0.73774,     0.73874,     0.73974,     0.74074,     0.74174,     0.74274,     0.74374,\n",
              "           0.74474,     0.74575,     0.74675,     0.74775,     0.74875,     0.74975,     0.75075,     0.75175,     0.75275,     0.75375,     0.75475,     0.75576,     0.75676,     0.75776,     0.75876,     0.75976,     0.76076,     0.76176,     0.76276,     0.76376,     0.76476,     0.76577,     0.76677,     0.76777,\n",
              "           0.76877,     0.76977,     0.77077,     0.77177,     0.77277,     0.77377,     0.77477,     0.77578,     0.77678,     0.77778,     0.77878,     0.77978,     0.78078,     0.78178,     0.78278,     0.78378,     0.78478,     0.78579,     0.78679,     0.78779,     0.78879,     0.78979,     0.79079,     0.79179,\n",
              "           0.79279,     0.79379,     0.79479,      0.7958,      0.7968,      0.7978,      0.7988,      0.7998,      0.8008,      0.8018,      0.8028,      0.8038,      0.8048,     0.80581,     0.80681,     0.80781,     0.80881,     0.80981,     0.81081,     0.81181,     0.81281,     0.81381,     0.81481,     0.81582,\n",
              "           0.81682,     0.81782,     0.81882,     0.81982,     0.82082,     0.82182,     0.82282,     0.82382,     0.82482,     0.82583,     0.82683,     0.82783,     0.82883,     0.82983,     0.83083,     0.83183,     0.83283,     0.83383,     0.83483,     0.83584,     0.83684,     0.83784,     0.83884,     0.83984,\n",
              "           0.84084,     0.84184,     0.84284,     0.84384,     0.84484,     0.84585,     0.84685,     0.84785,     0.84885,     0.84985,     0.85085,     0.85185,     0.85285,     0.85385,     0.85485,     0.85586,     0.85686,     0.85786,     0.85886,     0.85986,     0.86086,     0.86186,     0.86286,     0.86386,\n",
              "           0.86486,     0.86587,     0.86687,     0.86787,     0.86887,     0.86987,     0.87087,     0.87187,     0.87287,     0.87387,     0.87487,     0.87588,     0.87688,     0.87788,     0.87888,     0.87988,     0.88088,     0.88188,     0.88288,     0.88388,     0.88488,     0.88589,     0.88689,     0.88789,\n",
              "           0.88889,     0.88989,     0.89089,     0.89189,     0.89289,     0.89389,     0.89489,      0.8959,      0.8969,      0.8979,      0.8989,      0.8999,      0.9009,      0.9019,      0.9029,      0.9039,      0.9049,     0.90591,     0.90691,     0.90791,     0.90891,     0.90991,     0.91091,     0.91191,\n",
              "           0.91291,     0.91391,     0.91491,     0.91592,     0.91692,     0.91792,     0.91892,     0.91992,     0.92092,     0.92192,     0.92292,     0.92392,     0.92492,     0.92593,     0.92693,     0.92793,     0.92893,     0.92993,     0.93093,     0.93193,     0.93293,     0.93393,     0.93493,     0.93594,\n",
              "           0.93694,     0.93794,     0.93894,     0.93994,     0.94094,     0.94194,     0.94294,     0.94394,     0.94494,     0.94595,     0.94695,     0.94795,     0.94895,     0.94995,     0.95095,     0.95195,     0.95295,     0.95395,     0.95495,     0.95596,     0.95696,     0.95796,     0.95896,     0.95996,\n",
              "           0.96096,     0.96196,     0.96296,     0.96396,     0.96496,     0.96597,     0.96697,     0.96797,     0.96897,     0.96997,     0.97097,     0.97197,     0.97297,     0.97397,     0.97497,     0.97598,     0.97698,     0.97798,     0.97898,     0.97998,     0.98098,     0.98198,     0.98298,     0.98398,\n",
              "           0.98498,     0.98599,     0.98699,     0.98799,     0.98899,     0.98999,     0.99099,     0.99199,     0.99299,     0.99399,     0.99499,       0.996,       0.997,       0.998,       0.999,           1]), array([[    0.13173,     0.13173,     0.19005,     0.22602,      0.2518,     0.27438,      0.2921,     0.30658,      0.3229,      0.3336,     0.34717,      0.3585,     0.36925,     0.37716,     0.38678,     0.39316,      0.4003,     0.41085,     0.41667,      0.4254,     0.42911,     0.43471,       0.436,\n",
              "            0.44017,      0.4475,     0.45094,     0.45303,     0.45968,      0.4644,     0.46974,     0.47108,     0.47399,     0.47997,     0.48299,     0.48801,     0.49067,     0.49249,      0.4954,     0.50106,     0.50269,     0.50654,     0.50776,     0.51319,     0.51706,     0.51983,     0.52142,\n",
              "            0.52296,     0.52429,     0.52561,     0.52698,     0.52836,     0.53109,     0.53524,     0.53865,     0.54362,     0.54781,     0.54908,     0.55034,     0.55236,     0.55446,     0.55532,     0.55618,     0.55704,      0.5592,     0.56168,     0.56288,     0.56408,     0.56613,     0.56727,\n",
              "            0.56538,      0.5664,     0.56741,     0.56843,     0.56968,     0.57105,     0.57264,     0.57706,      0.5812,     0.58281,     0.58205,     0.58129,     0.58156,     0.58558,     0.58774,     0.58902,     0.59005,     0.59107,     0.59209,     0.59403,     0.59598,     0.59946,     0.59858,\n",
              "             0.5977,     0.59769,     0.59836,     0.59903,      0.5997,     0.60037,     0.60103,     0.60033,     0.59904,     0.60224,     0.60405,      0.6056,     0.60875,     0.61132,     0.61159,     0.61185,     0.61212,     0.61238,     0.61265,     0.61292,     0.61318,     0.61345,     0.61371,\n",
              "            0.61398,     0.61424,     0.61451,     0.61477,     0.61504,      0.6153,     0.61893,      0.6233,     0.62466,     0.62534,     0.62601,     0.62669,     0.62737,     0.62805,     0.62865,     0.62902,     0.62939,     0.62975,     0.63012,     0.63049,     0.63086,     0.63122,     0.63159,\n",
              "            0.63196,     0.63232,     0.63269,     0.63306,      0.6365,     0.64205,     0.64376,     0.64525,     0.64674,     0.64779,     0.64873,     0.64966,      0.6506,     0.65154,     0.65243,     0.65329,     0.65416,     0.65503,     0.65589,     0.65688,     0.65999,     0.66215,      0.6632,\n",
              "            0.66425,     0.66531,     0.66636,     0.67281,     0.67689,     0.67665,      0.6764,     0.67616,     0.67591,     0.67567,     0.67543,     0.67518,     0.67494,     0.67469,     0.67445,     0.67623,     0.67829,     0.68002,     0.68107,     0.68211,     0.68316,      0.6842,     0.68493,\n",
              "            0.68441,     0.68388,     0.68336,     0.68283,     0.68243,     0.68219,     0.68194,      0.6817,     0.68145,     0.68121,     0.68096,     0.68072,     0.68047,     0.68023,     0.68007,     0.68101,     0.68195,     0.68288,     0.68382,     0.68476,     0.68642,     0.69057,     0.69516,\n",
              "            0.69638,     0.69587,     0.69535,     0.69484,     0.69433,     0.69491,     0.69578,     0.69666,     0.69754,     0.69842,      0.6993,     0.70121,     0.70646,     0.70904,     0.71163,     0.71959,     0.72141,     0.72322,     0.72645,     0.73057,      0.7315,     0.73242,     0.73334,\n",
              "            0.73426,     0.73518,     0.73611,       0.737,     0.73777,     0.73855,     0.73932,      0.7401,     0.74087,     0.74165,     0.74242,      0.7432,     0.74316,      0.7429,     0.74264,     0.74237,     0.74211,     0.74185,     0.74159,     0.74133,     0.74107,     0.74157,     0.74207,\n",
              "            0.74257,     0.74307,     0.74356,     0.74406,     0.74456,     0.74506,     0.74555,     0.74605,     0.74655,     0.74705,     0.74754,     0.75595,     0.75831,     0.76068,     0.76339,     0.76628,     0.76887,     0.77042,     0.77197,     0.77352,     0.77507,     0.77557,     0.77534,\n",
              "            0.77511,     0.77488,     0.77465,     0.77442,      0.7742,     0.77397,     0.77374,      0.7738,     0.77445,     0.77511,     0.77577,     0.77642,     0.77708,     0.77774,     0.77839,     0.77905,     0.77971,     0.78036,       0.781,     0.78143,     0.78187,      0.7823,     0.78273,\n",
              "            0.78317,      0.7836,     0.78403,     0.78447,      0.7849,     0.78533,     0.78577,      0.7862,     0.78664,     0.78707,      0.7875,     0.78794,     0.78837,      0.7889,     0.78946,     0.79002,     0.79058,     0.79115,     0.79171,     0.79227,     0.79283,     0.79339,     0.79395,\n",
              "            0.79451,     0.79507,     0.79563,     0.79604,     0.79546,     0.79487,     0.79428,      0.8018,     0.80158,     0.80117,     0.80077,     0.80036,     0.79912,     0.79616,     0.79778,     0.79988,     0.80199,     0.80409,     0.80465,     0.80519,     0.80572,     0.80626,      0.8068,\n",
              "            0.80733,     0.80787,     0.80841,     0.80894,     0.80948,     0.81002,     0.81055,     0.81109,     0.81163,     0.81216,     0.81247,     0.81238,     0.81229,      0.8122,     0.81212,     0.81203,     0.81194,     0.81185,     0.81176,     0.81168,     0.81159,      0.8115,     0.81141,\n",
              "            0.81132,     0.81124,     0.81115,     0.81106,     0.81097,     0.81088,      0.8108,     0.81071,     0.81062,     0.81053,     0.81047,     0.81041,     0.81035,     0.81028,     0.81022,     0.81016,      0.8101,     0.81004,     0.80998,     0.80991,     0.80985,     0.80979,     0.80973,\n",
              "            0.80967,     0.80961,     0.80954,     0.80948,     0.80942,     0.80936,      0.8093,     0.80924,     0.80917,     0.80911,     0.80905,     0.80899,     0.80893,     0.80887,      0.8088,     0.80874,     0.80868,     0.80862,     0.80856,     0.81739,      0.8181,     0.81881,     0.81953,\n",
              "            0.82024,     0.82096,     0.82167,     0.82238,      0.8231,     0.82381,     0.82453,     0.82524,     0.82595,     0.83515,     0.83504,     0.83492,      0.8348,     0.83468,     0.83456,     0.83444,     0.83432,      0.8342,     0.83408,     0.83396,     0.83384,     0.83372,     0.83361,\n",
              "            0.83349,     0.83337,     0.83678,     0.84158,     0.84129,     0.84248,     0.84446,     0.84644,     0.84842,      0.8504,     0.85039,     0.85019,     0.84998,     0.84978,     0.84957,     0.84937,     0.84917,     0.84896,      0.8488,     0.84869,     0.84858,     0.84848,     0.84837,\n",
              "            0.84826,     0.84815,     0.84805,     0.84794,     0.84783,     0.84772,     0.84762,     0.84751,      0.8474,      0.8473,     0.84719,     0.84708,     0.84823,      0.8497,     0.85118,     0.85266,     0.85413,     0.85561,     0.85709,     0.86734,     0.86692,     0.86637,     0.86591,\n",
              "            0.86691,     0.86791,      0.8689,      0.8699,     0.87089,     0.87189,     0.87289,     0.87388,     0.87488,     0.87587,     0.87662,     0.87684,     0.87707,     0.87729,     0.87752,     0.87774,     0.87796,     0.87819,     0.87841,     0.87864,     0.87886,     0.87909,     0.87931,\n",
              "            0.87954,     0.87976,     0.87999,     0.88021,     0.88044,     0.88066,     0.88088,     0.88111,     0.88133,     0.88156,     0.88178,     0.88201,     0.88223,     0.88246,     0.88268,     0.88291,     0.88313,     0.88336,     0.88358,      0.8838,     0.88403,     0.88425,     0.88448,\n",
              "             0.8847,     0.88493,     0.88515,     0.88538,      0.8856,     0.88583,     0.88605,     0.88628,      0.8865,     0.88673,     0.88695,     0.88717,      0.8874,     0.88594,     0.88569,     0.88544,     0.88519,     0.88494,     0.88469,      0.8845,     0.88433,     0.88416,     0.88398,\n",
              "            0.88381,     0.88364,     0.88347,      0.8833,     0.88313,      0.8844,      0.8858,      0.8872,      0.8886,     0.89001,     0.89141,     0.89281,     0.89421,     0.89471,     0.89467,     0.89462,     0.89458,     0.89454,     0.89449,     0.89445,      0.8944,     0.89436,     0.89432,\n",
              "            0.89427,     0.89423,     0.89419,     0.89414,      0.8941,     0.89406,     0.89401,     0.89397,     0.89392,     0.89388,     0.89384,     0.89379,     0.89375,     0.89371,     0.89366,     0.89362,     0.89358,     0.89353,     0.89349,     0.89345,      0.8934,     0.89336,     0.89323,\n",
              "            0.89298,     0.89274,     0.89249,     0.89224,       0.892,     0.89153,     0.89348,     0.89543,     0.89738,     0.89933,     0.90128,      0.9027,     0.90234,     0.90199,     0.90164,     0.90133,     0.90111,     0.90089,     0.90067,     0.90045,     0.90022,         0.9,     0.90662,\n",
              "            0.91303,      0.9128,     0.91256,     0.91232,     0.91208,     0.91184,     0.91162,     0.91142,     0.91121,       0.911,     0.91079,     0.91059,     0.90999,     0.90884,     0.90812,     0.90756,     0.90723,      0.9069,     0.90657,     0.90632,     0.91053,     0.91474,     0.91895,\n",
              "            0.92368,     0.92876,     0.93383,     0.93519,     0.93476,     0.93416,     0.93755,     0.94905,     0.94869,     0.94833,      0.9481,     0.94789,     0.94769,     0.94748,      0.9462,      0.9457,     0.94519,     0.94468,     0.94405,     0.94335,     0.94279,     0.94228,     0.94204,\n",
              "            0.94181,     0.94158,     0.94135,     0.94115,     0.94105,     0.94096,     0.94086,     0.94077,     0.94067,     0.94057,     0.94048,     0.94038,     0.94028,     0.94019,     0.94009,     0.93998,     0.93973,     0.93948,     0.93923,     0.93898,     0.93865,       0.938,     0.93748,\n",
              "            0.93738,     0.93728,     0.93718,     0.93709,     0.93699,     0.93689,      0.9368,      0.9367,      0.9366,      0.9365,     0.93641,     0.93631,     0.93621,     0.93594,     0.93553,     0.93512,     0.93473,     0.93444,     0.93414,     0.93384,     0.93355,     0.93325,     0.93297,\n",
              "            0.93269,     0.93241,     0.93212,     0.93184,     0.93107,     0.93026,     0.92823,     0.92751,     0.92499,     0.92478,     0.92458,     0.92437,     0.92416,     0.92395,     0.92375,     0.92354,     0.92333,     0.92312,     0.91832,     0.91755,     0.91678,     0.91625,     0.91577,\n",
              "            0.91528,     0.91479,      0.9143,     0.91914,     0.92415,     0.92917,     0.93418,     0.93919,     0.94109,     0.94094,      0.9408,     0.94065,      0.9405,     0.94036,     0.94021,     0.94007,     0.93992,     0.93977,     0.93963,     0.93948,     0.93931,     0.93911,      0.9389,\n",
              "             0.9387,     0.93849,     0.93829,     0.93808,     0.93788,     0.93768,     0.93742,     0.93683,     0.93624,     0.93565,     0.93219,     0.92715,     0.92576,     0.92554,     0.92533,     0.92511,     0.92489,     0.92468,     0.92446,     0.92424,     0.92403,     0.92381,      0.9236,\n",
              "            0.92338,     0.92316,     0.92577,     0.93022,     0.93467,     0.93913,     0.94358,     0.94803,     0.95248,     0.95694,     0.95964,     0.95851,     0.95816,     0.95795,     0.95775,     0.95754,     0.95733,     0.95713,     0.95692,     0.95671,      0.9565,     0.95625,       0.956,\n",
              "            0.95574,     0.95549,     0.95524,     0.95499,     0.95473,     0.95425,     0.95314,     0.95223,     0.95174,     0.95125,     0.95076,     0.95028,     0.94941,     0.94807,     0.94718,     0.94678,     0.94638,     0.94598,     0.94558,     0.94518,     0.94478,     0.94426,     0.94314,\n",
              "            0.94203,     0.94092,     0.93984,     0.93876,     0.93769,     0.93574,      0.9336,      0.9312,     0.92876,     0.92511,     0.92006,     0.91516,     0.91206,     0.90904,     0.90787,     0.90671,     0.90554,     0.90438,     0.90321,     0.90205,     0.90088,     0.89922,     0.89596,\n",
              "            0.89271,     0.88946,     0.88654,     0.88369,     0.88084,       0.878,     0.87515,     0.86633,     0.85717,     0.82652,     0.81969,     0.81286,     0.80602,     0.79942,     0.79454,     0.78966,     0.78478,      0.7799,     0.77502,     0.77013,     0.76525,     0.76037,     0.75549,\n",
              "            0.75061,     0.76725,     0.78696,     0.80667,     0.82638,      0.8461,     0.86581,     0.88552,     0.90523,     0.92494,     0.94466,     0.96437,     0.98408,           1,           1,           1,           1,           1,           1,           1,           1,           1,           1,\n",
              "                  1,           1,           1,           1,           1,           1,           1,           1,           1,           1,           1,           1,           1,           1,           1,           1,           1,           1,           1,           1,           1,           1,           1,\n",
              "                  1,           1,           1,           1,           1,           1,           1,           1,           1,           1,           1,           1,           1,           1,           1,           1,           1,           1,           1,           1,           1,           1,           1,\n",
              "                  1,           1,           1,           1,           1,           1,           1,           1,           1,           1,           1,           1,           1,           1,           1,           1,           1,           1,           1,           1,           1,           1,           1,\n",
              "                  1,           1,           1,           1,           1,           1,           1,           1,           1,           1,           1,           1,           1,           1,           1,           1,           1,           1,           1,           1,           1,           1,           1,\n",
              "                  1,           1,           1,           1,           1,           1,           1,           1,           1,           1,           1]]), 'Confidence', 'Precision'], [array([          0,    0.001001,    0.002002,    0.003003,    0.004004,    0.005005,    0.006006,    0.007007,    0.008008,    0.009009,     0.01001,    0.011011,    0.012012,    0.013013,    0.014014,    0.015015,    0.016016,    0.017017,    0.018018,    0.019019,     0.02002,    0.021021,    0.022022,    0.023023,\n",
              "          0.024024,    0.025025,    0.026026,    0.027027,    0.028028,    0.029029,     0.03003,    0.031031,    0.032032,    0.033033,    0.034034,    0.035035,    0.036036,    0.037037,    0.038038,    0.039039,     0.04004,    0.041041,    0.042042,    0.043043,    0.044044,    0.045045,    0.046046,    0.047047,\n",
              "          0.048048,    0.049049,     0.05005,    0.051051,    0.052052,    0.053053,    0.054054,    0.055055,    0.056056,    0.057057,    0.058058,    0.059059,     0.06006,    0.061061,    0.062062,    0.063063,    0.064064,    0.065065,    0.066066,    0.067067,    0.068068,    0.069069,     0.07007,    0.071071,\n",
              "          0.072072,    0.073073,    0.074074,    0.075075,    0.076076,    0.077077,    0.078078,    0.079079,     0.08008,    0.081081,    0.082082,    0.083083,    0.084084,    0.085085,    0.086086,    0.087087,    0.088088,    0.089089,     0.09009,    0.091091,    0.092092,    0.093093,    0.094094,    0.095095,\n",
              "          0.096096,    0.097097,    0.098098,    0.099099,      0.1001,      0.1011,      0.1021,      0.1031,      0.1041,     0.10511,     0.10611,     0.10711,     0.10811,     0.10911,     0.11011,     0.11111,     0.11211,     0.11311,     0.11411,     0.11512,     0.11612,     0.11712,     0.11812,     0.11912,\n",
              "           0.12012,     0.12112,     0.12212,     0.12312,     0.12412,     0.12513,     0.12613,     0.12713,     0.12813,     0.12913,     0.13013,     0.13113,     0.13213,     0.13313,     0.13413,     0.13514,     0.13614,     0.13714,     0.13814,     0.13914,     0.14014,     0.14114,     0.14214,     0.14314,\n",
              "           0.14414,     0.14515,     0.14615,     0.14715,     0.14815,     0.14915,     0.15015,     0.15115,     0.15215,     0.15315,     0.15415,     0.15516,     0.15616,     0.15716,     0.15816,     0.15916,     0.16016,     0.16116,     0.16216,     0.16316,     0.16416,     0.16517,     0.16617,     0.16717,\n",
              "           0.16817,     0.16917,     0.17017,     0.17117,     0.17217,     0.17317,     0.17417,     0.17518,     0.17618,     0.17718,     0.17818,     0.17918,     0.18018,     0.18118,     0.18218,     0.18318,     0.18418,     0.18519,     0.18619,     0.18719,     0.18819,     0.18919,     0.19019,     0.19119,\n",
              "           0.19219,     0.19319,     0.19419,      0.1952,      0.1962,      0.1972,      0.1982,      0.1992,      0.2002,      0.2012,      0.2022,      0.2032,      0.2042,     0.20521,     0.20621,     0.20721,     0.20821,     0.20921,     0.21021,     0.21121,     0.21221,     0.21321,     0.21421,     0.21522,\n",
              "           0.21622,     0.21722,     0.21822,     0.21922,     0.22022,     0.22122,     0.22222,     0.22322,     0.22422,     0.22523,     0.22623,     0.22723,     0.22823,     0.22923,     0.23023,     0.23123,     0.23223,     0.23323,     0.23423,     0.23524,     0.23624,     0.23724,     0.23824,     0.23924,\n",
              "           0.24024,     0.24124,     0.24224,     0.24324,     0.24424,     0.24525,     0.24625,     0.24725,     0.24825,     0.24925,     0.25025,     0.25125,     0.25225,     0.25325,     0.25425,     0.25526,     0.25626,     0.25726,     0.25826,     0.25926,     0.26026,     0.26126,     0.26226,     0.26326,\n",
              "           0.26426,     0.26527,     0.26627,     0.26727,     0.26827,     0.26927,     0.27027,     0.27127,     0.27227,     0.27327,     0.27427,     0.27528,     0.27628,     0.27728,     0.27828,     0.27928,     0.28028,     0.28128,     0.28228,     0.28328,     0.28428,     0.28529,     0.28629,     0.28729,\n",
              "           0.28829,     0.28929,     0.29029,     0.29129,     0.29229,     0.29329,     0.29429,      0.2953,      0.2963,      0.2973,      0.2983,      0.2993,      0.3003,      0.3013,      0.3023,      0.3033,      0.3043,     0.30531,     0.30631,     0.30731,     0.30831,     0.30931,     0.31031,     0.31131,\n",
              "           0.31231,     0.31331,     0.31431,     0.31532,     0.31632,     0.31732,     0.31832,     0.31932,     0.32032,     0.32132,     0.32232,     0.32332,     0.32432,     0.32533,     0.32633,     0.32733,     0.32833,     0.32933,     0.33033,     0.33133,     0.33233,     0.33333,     0.33433,     0.33534,\n",
              "           0.33634,     0.33734,     0.33834,     0.33934,     0.34034,     0.34134,     0.34234,     0.34334,     0.34434,     0.34535,     0.34635,     0.34735,     0.34835,     0.34935,     0.35035,     0.35135,     0.35235,     0.35335,     0.35435,     0.35536,     0.35636,     0.35736,     0.35836,     0.35936,\n",
              "           0.36036,     0.36136,     0.36236,     0.36336,     0.36436,     0.36537,     0.36637,     0.36737,     0.36837,     0.36937,     0.37037,     0.37137,     0.37237,     0.37337,     0.37437,     0.37538,     0.37638,     0.37738,     0.37838,     0.37938,     0.38038,     0.38138,     0.38238,     0.38338,\n",
              "           0.38438,     0.38539,     0.38639,     0.38739,     0.38839,     0.38939,     0.39039,     0.39139,     0.39239,     0.39339,     0.39439,      0.3954,      0.3964,      0.3974,      0.3984,      0.3994,      0.4004,      0.4014,      0.4024,      0.4034,      0.4044,     0.40541,     0.40641,     0.40741,\n",
              "           0.40841,     0.40941,     0.41041,     0.41141,     0.41241,     0.41341,     0.41441,     0.41542,     0.41642,     0.41742,     0.41842,     0.41942,     0.42042,     0.42142,     0.42242,     0.42342,     0.42442,     0.42543,     0.42643,     0.42743,     0.42843,     0.42943,     0.43043,     0.43143,\n",
              "           0.43243,     0.43343,     0.43443,     0.43544,     0.43644,     0.43744,     0.43844,     0.43944,     0.44044,     0.44144,     0.44244,     0.44344,     0.44444,     0.44545,     0.44645,     0.44745,     0.44845,     0.44945,     0.45045,     0.45145,     0.45245,     0.45345,     0.45445,     0.45546,\n",
              "           0.45646,     0.45746,     0.45846,     0.45946,     0.46046,     0.46146,     0.46246,     0.46346,     0.46446,     0.46547,     0.46647,     0.46747,     0.46847,     0.46947,     0.47047,     0.47147,     0.47247,     0.47347,     0.47447,     0.47548,     0.47648,     0.47748,     0.47848,     0.47948,\n",
              "           0.48048,     0.48148,     0.48248,     0.48348,     0.48448,     0.48549,     0.48649,     0.48749,     0.48849,     0.48949,     0.49049,     0.49149,     0.49249,     0.49349,     0.49449,      0.4955,      0.4965,      0.4975,      0.4985,      0.4995,      0.5005,      0.5015,      0.5025,      0.5035,\n",
              "            0.5045,     0.50551,     0.50651,     0.50751,     0.50851,     0.50951,     0.51051,     0.51151,     0.51251,     0.51351,     0.51451,     0.51552,     0.51652,     0.51752,     0.51852,     0.51952,     0.52052,     0.52152,     0.52252,     0.52352,     0.52452,     0.52553,     0.52653,     0.52753,\n",
              "           0.52853,     0.52953,     0.53053,     0.53153,     0.53253,     0.53353,     0.53453,     0.53554,     0.53654,     0.53754,     0.53854,     0.53954,     0.54054,     0.54154,     0.54254,     0.54354,     0.54454,     0.54555,     0.54655,     0.54755,     0.54855,     0.54955,     0.55055,     0.55155,\n",
              "           0.55255,     0.55355,     0.55455,     0.55556,     0.55656,     0.55756,     0.55856,     0.55956,     0.56056,     0.56156,     0.56256,     0.56356,     0.56456,     0.56557,     0.56657,     0.56757,     0.56857,     0.56957,     0.57057,     0.57157,     0.57257,     0.57357,     0.57457,     0.57558,\n",
              "           0.57658,     0.57758,     0.57858,     0.57958,     0.58058,     0.58158,     0.58258,     0.58358,     0.58458,     0.58559,     0.58659,     0.58759,     0.58859,     0.58959,     0.59059,     0.59159,     0.59259,     0.59359,     0.59459,      0.5956,      0.5966,      0.5976,      0.5986,      0.5996,\n",
              "            0.6006,      0.6016,      0.6026,      0.6036,      0.6046,     0.60561,     0.60661,     0.60761,     0.60861,     0.60961,     0.61061,     0.61161,     0.61261,     0.61361,     0.61461,     0.61562,     0.61662,     0.61762,     0.61862,     0.61962,     0.62062,     0.62162,     0.62262,     0.62362,\n",
              "           0.62462,     0.62563,     0.62663,     0.62763,     0.62863,     0.62963,     0.63063,     0.63163,     0.63263,     0.63363,     0.63463,     0.63564,     0.63664,     0.63764,     0.63864,     0.63964,     0.64064,     0.64164,     0.64264,     0.64364,     0.64464,     0.64565,     0.64665,     0.64765,\n",
              "           0.64865,     0.64965,     0.65065,     0.65165,     0.65265,     0.65365,     0.65465,     0.65566,     0.65666,     0.65766,     0.65866,     0.65966,     0.66066,     0.66166,     0.66266,     0.66366,     0.66466,     0.66567,     0.66667,     0.66767,     0.66867,     0.66967,     0.67067,     0.67167,\n",
              "           0.67267,     0.67367,     0.67467,     0.67568,     0.67668,     0.67768,     0.67868,     0.67968,     0.68068,     0.68168,     0.68268,     0.68368,     0.68468,     0.68569,     0.68669,     0.68769,     0.68869,     0.68969,     0.69069,     0.69169,     0.69269,     0.69369,     0.69469,      0.6957,\n",
              "            0.6967,      0.6977,      0.6987,      0.6997,      0.7007,      0.7017,      0.7027,      0.7037,      0.7047,     0.70571,     0.70671,     0.70771,     0.70871,     0.70971,     0.71071,     0.71171,     0.71271,     0.71371,     0.71471,     0.71572,     0.71672,     0.71772,     0.71872,     0.71972,\n",
              "           0.72072,     0.72172,     0.72272,     0.72372,     0.72472,     0.72573,     0.72673,     0.72773,     0.72873,     0.72973,     0.73073,     0.73173,     0.73273,     0.73373,     0.73473,     0.73574,     0.73674,     0.73774,     0.73874,     0.73974,     0.74074,     0.74174,     0.74274,     0.74374,\n",
              "           0.74474,     0.74575,     0.74675,     0.74775,     0.74875,     0.74975,     0.75075,     0.75175,     0.75275,     0.75375,     0.75475,     0.75576,     0.75676,     0.75776,     0.75876,     0.75976,     0.76076,     0.76176,     0.76276,     0.76376,     0.76476,     0.76577,     0.76677,     0.76777,\n",
              "           0.76877,     0.76977,     0.77077,     0.77177,     0.77277,     0.77377,     0.77477,     0.77578,     0.77678,     0.77778,     0.77878,     0.77978,     0.78078,     0.78178,     0.78278,     0.78378,     0.78478,     0.78579,     0.78679,     0.78779,     0.78879,     0.78979,     0.79079,     0.79179,\n",
              "           0.79279,     0.79379,     0.79479,      0.7958,      0.7968,      0.7978,      0.7988,      0.7998,      0.8008,      0.8018,      0.8028,      0.8038,      0.8048,     0.80581,     0.80681,     0.80781,     0.80881,     0.80981,     0.81081,     0.81181,     0.81281,     0.81381,     0.81481,     0.81582,\n",
              "           0.81682,     0.81782,     0.81882,     0.81982,     0.82082,     0.82182,     0.82282,     0.82382,     0.82482,     0.82583,     0.82683,     0.82783,     0.82883,     0.82983,     0.83083,     0.83183,     0.83283,     0.83383,     0.83483,     0.83584,     0.83684,     0.83784,     0.83884,     0.83984,\n",
              "           0.84084,     0.84184,     0.84284,     0.84384,     0.84484,     0.84585,     0.84685,     0.84785,     0.84885,     0.84985,     0.85085,     0.85185,     0.85285,     0.85385,     0.85485,     0.85586,     0.85686,     0.85786,     0.85886,     0.85986,     0.86086,     0.86186,     0.86286,     0.86386,\n",
              "           0.86486,     0.86587,     0.86687,     0.86787,     0.86887,     0.86987,     0.87087,     0.87187,     0.87287,     0.87387,     0.87487,     0.87588,     0.87688,     0.87788,     0.87888,     0.87988,     0.88088,     0.88188,     0.88288,     0.88388,     0.88488,     0.88589,     0.88689,     0.88789,\n",
              "           0.88889,     0.88989,     0.89089,     0.89189,     0.89289,     0.89389,     0.89489,      0.8959,      0.8969,      0.8979,      0.8989,      0.8999,      0.9009,      0.9019,      0.9029,      0.9039,      0.9049,     0.90591,     0.90691,     0.90791,     0.90891,     0.90991,     0.91091,     0.91191,\n",
              "           0.91291,     0.91391,     0.91491,     0.91592,     0.91692,     0.91792,     0.91892,     0.91992,     0.92092,     0.92192,     0.92292,     0.92392,     0.92492,     0.92593,     0.92693,     0.92793,     0.92893,     0.92993,     0.93093,     0.93193,     0.93293,     0.93393,     0.93493,     0.93594,\n",
              "           0.93694,     0.93794,     0.93894,     0.93994,     0.94094,     0.94194,     0.94294,     0.94394,     0.94494,     0.94595,     0.94695,     0.94795,     0.94895,     0.94995,     0.95095,     0.95195,     0.95295,     0.95395,     0.95495,     0.95596,     0.95696,     0.95796,     0.95896,     0.95996,\n",
              "           0.96096,     0.96196,     0.96296,     0.96396,     0.96496,     0.96597,     0.96697,     0.96797,     0.96897,     0.96997,     0.97097,     0.97197,     0.97297,     0.97397,     0.97497,     0.97598,     0.97698,     0.97798,     0.97898,     0.97998,     0.98098,     0.98198,     0.98298,     0.98398,\n",
              "           0.98498,     0.98599,     0.98699,     0.98799,     0.98899,     0.98999,     0.99099,     0.99199,     0.99299,     0.99399,     0.99499,       0.996,       0.997,       0.998,       0.999,           1]), array([[    0.98936,     0.98936,     0.97872,     0.97872,     0.97872,     0.97872,     0.97872,     0.97872,     0.97872,     0.97872,     0.97872,     0.97872,     0.97872,     0.97872,     0.97872,     0.97872,     0.97872,     0.97872,     0.97872,     0.97872,     0.97872,     0.97872,     0.97872,\n",
              "            0.97872,     0.97872,     0.97872,     0.97872,     0.97872,     0.97872,     0.97872,     0.97872,     0.97872,     0.97872,     0.97872,     0.97872,     0.97872,     0.97872,     0.97872,     0.97872,     0.97872,     0.97872,     0.97872,     0.97872,     0.97872,     0.97872,     0.97872,\n",
              "            0.97872,     0.97872,     0.97872,     0.97872,     0.97872,     0.97872,     0.97872,     0.97872,     0.97872,     0.97872,     0.97872,     0.97872,     0.97872,     0.97872,     0.97872,     0.97872,     0.97872,     0.97872,     0.97872,     0.97872,     0.97872,     0.97872,     0.97623,\n",
              "            0.96809,     0.96809,     0.96809,     0.96809,     0.96809,     0.96809,     0.96809,     0.96809,     0.96809,     0.96603,     0.96302,     0.96001,     0.95745,     0.95745,     0.95745,     0.95745,     0.95745,     0.95745,     0.95745,     0.95745,     0.95745,     0.95531,     0.95182,\n",
              "            0.94833,     0.94681,     0.94681,     0.94681,     0.94681,     0.94681,     0.94681,     0.94281,     0.93617,     0.93617,     0.93617,     0.93617,     0.93617,     0.93617,     0.93617,     0.93617,     0.93617,     0.93617,     0.93617,     0.93617,     0.93617,     0.93617,     0.93617,\n",
              "            0.93617,     0.93617,     0.93617,     0.93617,     0.93617,     0.93617,     0.93617,     0.93617,     0.93617,     0.93617,     0.93617,     0.93617,     0.93617,     0.93617,     0.93617,     0.93617,     0.93617,     0.93617,     0.93617,     0.93617,     0.93617,     0.93617,     0.93617,\n",
              "            0.93617,     0.93617,     0.93617,     0.93617,     0.93617,     0.93617,     0.93617,     0.93617,     0.93617,     0.93617,     0.93617,     0.93617,     0.93617,     0.93617,     0.93617,     0.93617,     0.93617,     0.93617,     0.93617,     0.93617,     0.93617,     0.93617,     0.93617,\n",
              "            0.93617,     0.93617,     0.93617,     0.93617,     0.93604,       0.935,     0.93396,     0.93292,     0.93189,     0.93085,     0.92981,     0.92877,     0.92773,     0.92669,     0.92565,     0.92553,     0.92553,     0.92553,     0.92553,     0.92553,     0.92553,     0.92553,     0.92509,\n",
              "            0.92285,     0.92061,     0.91838,     0.91614,     0.91444,     0.91341,     0.91239,     0.91136,     0.91033,     0.90931,     0.90828,     0.90725,     0.90623,      0.9052,     0.90426,     0.90426,     0.90426,     0.90426,     0.90426,     0.90426,     0.90426,     0.90426,     0.90426,\n",
              "            0.90281,     0.90063,     0.89845,     0.89627,     0.89408,     0.89362,     0.89362,     0.89362,     0.89362,     0.89362,     0.89362,     0.89362,     0.89362,     0.89362,     0.89362,     0.89362,     0.89362,     0.89362,     0.89362,     0.89362,     0.89362,     0.89362,     0.89362,\n",
              "            0.89362,     0.89362,     0.89362,     0.89362,     0.89362,     0.89362,     0.89362,     0.89362,     0.89362,     0.89362,     0.89362,     0.89362,     0.89266,     0.89145,     0.89024,     0.88903,     0.88782,     0.88661,     0.88539,     0.88418,     0.88298,     0.88298,     0.88298,\n",
              "            0.88298,     0.88298,     0.88298,     0.88298,     0.88298,     0.88298,     0.88298,     0.88298,     0.88298,     0.88298,     0.88298,     0.88298,     0.88298,     0.88298,     0.88298,     0.88298,     0.88298,     0.88298,     0.88298,     0.88298,     0.88298,      0.8823,     0.88115,\n",
              "               0.88,     0.87886,     0.87771,     0.87656,     0.87541,     0.87426,     0.87312,     0.87234,     0.87234,     0.87234,     0.87234,     0.87234,     0.87234,     0.87234,     0.87234,     0.87234,     0.87234,     0.87234,     0.87234,     0.87234,     0.87234,     0.87234,     0.87234,\n",
              "            0.87234,     0.87234,     0.87234,     0.87234,     0.87234,     0.87234,     0.87234,     0.87234,     0.87234,     0.87234,     0.87234,     0.87234,     0.87234,     0.87234,     0.87234,     0.87234,     0.87234,     0.87234,     0.87234,     0.87234,     0.87234,     0.87234,     0.87234,\n",
              "            0.87234,     0.87234,     0.87234,     0.87194,     0.86882,      0.8657,     0.86259,      0.8617,     0.85956,     0.85738,      0.8552,     0.85301,     0.84645,     0.83103,     0.82979,     0.82979,     0.82979,     0.82979,     0.82979,     0.82979,     0.82979,     0.82979,     0.82979,\n",
              "            0.82979,     0.82979,     0.82979,     0.82979,     0.82979,     0.82979,     0.82979,     0.82979,     0.82979,     0.82979,     0.82961,     0.82914,     0.82866,     0.82819,     0.82771,     0.82724,     0.82677,     0.82629,     0.82582,     0.82534,     0.82487,     0.82439,     0.82392,\n",
              "            0.82345,     0.82297,      0.8225,     0.82202,     0.82155,     0.82108,      0.8206,     0.82013,     0.81965,     0.81918,     0.81884,     0.81852,     0.81819,     0.81787,     0.81754,     0.81722,     0.81689,     0.81657,     0.81624,     0.81591,     0.81559,     0.81526,     0.81494,\n",
              "            0.81461,     0.81429,     0.81396,     0.81364,     0.81331,     0.81299,     0.81266,     0.81233,     0.81201,     0.81168,     0.81136,     0.81103,     0.81071,     0.81038,     0.81006,     0.80973,      0.8094,     0.80908,     0.80875,     0.80851,     0.80851,     0.80851,     0.80851,\n",
              "            0.80851,     0.80851,     0.80851,     0.80851,     0.80851,     0.80851,     0.80851,     0.80851,     0.80851,     0.80845,     0.80776,     0.80707,     0.80638,     0.80568,     0.80499,      0.8043,     0.80361,     0.80291,     0.80222,     0.80153,     0.80084,     0.80014,     0.79945,\n",
              "            0.79876,     0.79807,     0.79787,     0.79787,     0.78951,     0.78723,     0.78723,     0.78723,     0.78723,     0.78723,      0.7861,     0.78485,      0.7836,     0.78236,     0.78111,     0.77986,     0.77862,     0.77737,     0.77635,     0.77571,     0.77507,     0.77443,     0.77379,\n",
              "            0.77315,     0.77251,     0.77186,     0.77122,     0.77058,     0.76994,      0.7693,     0.76866,     0.76802,     0.76737,     0.76673,     0.76609,     0.76596,     0.76596,     0.76596,     0.76596,     0.76596,     0.76596,     0.76596,     0.76596,     0.76237,     0.75873,     0.75532,\n",
              "            0.75532,     0.75532,     0.75532,     0.75532,     0.75532,     0.75532,     0.75532,     0.75532,     0.75532,     0.75532,     0.75532,     0.75532,     0.75532,     0.75532,     0.75532,     0.75532,     0.75532,     0.75532,     0.75532,     0.75532,     0.75532,     0.75532,     0.75532,\n",
              "            0.75532,     0.75532,     0.75532,     0.75532,     0.75532,     0.75532,     0.75532,     0.75532,     0.75532,     0.75532,     0.75532,     0.75532,     0.75532,     0.75532,     0.75532,     0.75532,     0.75532,     0.75532,     0.75532,     0.75532,     0.75532,     0.75532,     0.75532,\n",
              "            0.75532,     0.75532,     0.75532,     0.75532,     0.75532,     0.75532,     0.75532,     0.75532,     0.75532,     0.75532,     0.75532,     0.75532,     0.75532,     0.74368,     0.74186,     0.74005,     0.73823,     0.73641,     0.73459,      0.7332,     0.73199,     0.73078,     0.72956,\n",
              "            0.72835,     0.72714,     0.72593,     0.72472,     0.72351,      0.7234,      0.7234,      0.7234,      0.7234,      0.7234,      0.7234,      0.7234,      0.7234,      0.7232,     0.72287,     0.72254,     0.72221,     0.72188,     0.72155,     0.72122,     0.72089,     0.72055,     0.72022,\n",
              "            0.71989,     0.71956,     0.71923,      0.7189,     0.71857,     0.71824,     0.71791,     0.71758,     0.71725,     0.71692,     0.71659,     0.71626,     0.71593,      0.7156,     0.71527,     0.71494,     0.71461,     0.71428,     0.71395,     0.71362,     0.71329,     0.71295,     0.71199,\n",
              "            0.71017,     0.70835,     0.70653,     0.70472,      0.7029,     0.69149,     0.69149,     0.69149,     0.69149,     0.69149,     0.69149,     0.69085,     0.68812,      0.6854,     0.68267,     0.68029,     0.67862,     0.67694,     0.67526,     0.67358,     0.67191,     0.67023,     0.67021,\n",
              "            0.67013,     0.66815,     0.66617,     0.66419,      0.6622,     0.66022,     0.65844,     0.65677,     0.65509,     0.65341,     0.65173,     0.65006,     0.64531,     0.63635,      0.6309,     0.62668,     0.62425,     0.62183,     0.61941,     0.61702,     0.61702,     0.61702,     0.61702,\n",
              "            0.61702,     0.61702,     0.61702,     0.61408,     0.60972,     0.60382,     0.59574,     0.59451,     0.59014,     0.58578,     0.58306,     0.58064,     0.57821,     0.57579,     0.56135,      0.5559,     0.55044,     0.54499,     0.53853,     0.53143,     0.52598,     0.52098,     0.51879,\n",
              "            0.51661,     0.51443,     0.51225,     0.51041,     0.50954,     0.50867,     0.50779,     0.50692,     0.50605,     0.50518,      0.5043,     0.50343,     0.50256,     0.50169,     0.50082,     0.49986,     0.49768,      0.4955,     0.49331,     0.49113,     0.48834,     0.48289,     0.47854,\n",
              "            0.47776,     0.47698,      0.4762,     0.47542,     0.47464,     0.47387,     0.47309,     0.47231,     0.47153,     0.47075,     0.46997,     0.46919,     0.46841,     0.46628,     0.46317,     0.46005,     0.45709,     0.45491,     0.45273,     0.45055,     0.44837,     0.44624,     0.44426,\n",
              "            0.44228,     0.44029,     0.43831,     0.43633,     0.43115,      0.4257,      0.4128,     0.40843,     0.39357,     0.39242,     0.39127,     0.39013,     0.38898,     0.38783,     0.38668,     0.38553,     0.38439,     0.38324,     0.35889,     0.35525,     0.35162,     0.34922,     0.34704,\n",
              "            0.34485,     0.34267,     0.34049,     0.34043,     0.34043,     0.34043,     0.34043,     0.34043,      0.3399,     0.33903,     0.33815,     0.33728,     0.33641,     0.33554,     0.33466,     0.33379,     0.33292,     0.33205,     0.33118,      0.3303,     0.32932,     0.32817,     0.32702,\n",
              "            0.32587,     0.32473,     0.32358,     0.32243,     0.32128,     0.32014,     0.31871,      0.3156,     0.31248,     0.30936,     0.29259,     0.27087,     0.26533,     0.26452,     0.26372,     0.26291,      0.2621,     0.26129,     0.26049,     0.25968,     0.25887,     0.25806,     0.25725,\n",
              "            0.25645,     0.25564,     0.25532,     0.25532,     0.25532,     0.25532,     0.25532,     0.25532,     0.25532,     0.25532,     0.25305,     0.24578,     0.24365,     0.24244,     0.24123,     0.24002,     0.23881,     0.23759,     0.23638,     0.23517,     0.23395,     0.23259,     0.23122,\n",
              "            0.22986,      0.2285,     0.22713,     0.22577,     0.22441,     0.22197,     0.21651,     0.21208,      0.2099,     0.20772,     0.20554,     0.20336,     0.19976,     0.19431,     0.19079,     0.18933,     0.18788,     0.18642,     0.18497,     0.18352,     0.18206,     0.18025,     0.17661,\n",
              "            0.17298,     0.16947,     0.16635,     0.16323,     0.16012,     0.15508,     0.14962,     0.14417,     0.13872,     0.13159,     0.12265,     0.11491,     0.11055,     0.10632,     0.10496,      0.1036,     0.10223,     0.10087,    0.099506,    0.098143,     0.09678,    0.094996,    0.091881,\n",
              "           0.088765,    0.085649,    0.083306,    0.081125,    0.078944,    0.076763,    0.074582,    0.069301,    0.063848,    0.051018,    0.048837,    0.046656,    0.044475,     0.04243,    0.041391,    0.040353,    0.039314,    0.038276,    0.037237,    0.036199,     0.03516,    0.034122,    0.033083,\n",
              "           0.032045,    0.031915,    0.031915,    0.031915,    0.031915,    0.031915,    0.031915,    0.031915,    0.031915,    0.031915,    0.031915,    0.031915,    0.031915,    0.031882,    0.031713,    0.031544,    0.031375,    0.031206,    0.031037,    0.030868,    0.030699,     0.03053,    0.030361,\n",
              "           0.030192,    0.030023,    0.029854,    0.029685,    0.029515,    0.029346,    0.029177,    0.029008,    0.028839,     0.02867,    0.028501,    0.028332,    0.028163,    0.027994,    0.027825,    0.027656,    0.027487,    0.027318,    0.027149,     0.02698,     0.02681,    0.026641,    0.026472,\n",
              "           0.026303,    0.026134,    0.025965,    0.025796,    0.025627,    0.025458,    0.025289,     0.02512,    0.024951,    0.024782,    0.024613,    0.024444,    0.024275,    0.024106,    0.023936,    0.023767,    0.023598,    0.023429,     0.02326,    0.023091,    0.022922,    0.022753,    0.022584,\n",
              "           0.022415,    0.022246,    0.022077,    0.021908,    0.021739,     0.02157,    0.021401,    0.021115,    0.020509,    0.019903,    0.019297,    0.018692,    0.018086,     0.01748,    0.016874,    0.016268,    0.015663,    0.015057,    0.014451,    0.013845,    0.013239,    0.012633,    0.012028,\n",
              "           0.011422,    0.010816,           0,           0,           0,           0,           0,           0,           0,           0,           0,           0,           0,           0,           0,           0,           0,           0,           0,           0,           0,           0,           0,\n",
              "                  0,           0,           0,           0,           0,           0,           0,           0,           0,           0,           0]]), 'Confidence', 'Recall']]\n",
              "fitness: 0.49003286525592216\n",
              "keys: ['metrics/precision(B)', 'metrics/recall(B)', 'metrics/mAP50(B)', 'metrics/mAP50-95(B)']\n",
              "maps: array([    0.44649])\n",
              "names: {0: 'Vehicle-Crash_Detected'}\n",
              "plot: True\n",
              "results_dict: {'metrics/precision(B)': 0.791705567191004, 'metrics/recall(B)': 0.8723404255319149, 'metrics/mAP50(B)': 0.8819228703308357, 'metrics/mAP50-95(B)': 0.4464895313587095, 'fitness': 0.49003286525592216}\n",
              "save_dir: PosixPath('runs/detect/train2')\n",
              "speed: {'preprocess': 0.18934239732458236, 'inference': 2.5036005263632917, 'loss': 0.0004337189045358211, 'postprocess': 1.7631890925955267}\n",
              "task: 'detect'"
            ]
          },
          "metadata": {},
          "execution_count": 8
        }
      ]
    },
    {
      "cell_type": "code",
      "source": [
        "\n",
        "results = model.predict(source=\"/content/Vehicle-Crash-Dataset-1/val/images/vehicle_crash-308-_jpg.rf.a44c18baa372b5dd71373869b2e20e43.jpg\", save=True, imgsz=640, conf=0.25)\n",
        "for result in results:\n",
        "    result.show()\n",
        "\n"
      ],
      "metadata": {
        "colab": {
          "base_uri": "https://localhost:8080/",
          "height": 426
        },
        "id": "-EEgPnpIGsoP",
        "outputId": "dd5b1f57-20ac-4673-e069-3f382d512146"
      },
      "execution_count": 10,
      "outputs": [
        {
          "output_type": "stream",
          "name": "stdout",
          "text": [
            "\n",
            "image 1/1 /content/Vehicle-Crash-Dataset-1/val/images/vehicle_crash-308-_jpg.rf.a44c18baa372b5dd71373869b2e20e43.jpg: 640x640 1 Vehicle-Crash_Detected, 9.4ms\n",
            "Speed: 2.7ms preprocess, 9.4ms inference, 1.4ms postprocess per image at shape (1, 3, 640, 640)\n",
            "Results saved to \u001b[1mruns/detect/train23\u001b[0m\n"
          ]
        },
        {
          "output_type": "display_data",
          "data": {
            "text/plain": [
              "<PIL.Image.Image image mode=RGB size=320x320>"
            ],
            "image/png": "[encoded data removed]",
            "image/jpeg": "[encoded data removed]"
          },
          "metadata": {}
        }
      ]
    }
  ]
}